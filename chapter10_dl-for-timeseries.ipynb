{
  "cells": [
    {
      "cell_type": "markdown",
      "metadata": {
        "id": "rLyx0NKfjbcR"
      },
      "source": [
        "이 노트북은 [케라스 창시자에게 배우는 딥러닝 2판](https://tensorflow.blog/kerasdl2/)의 예제 코드를 담고 있습니다.\n",
        "\n",
        "<table align=\"left\">\n",
        "    <tr>\n",
        "        <td>\n",
        "            <a href=\"https://colab.research.google.com/github/rickiepark/deep-learning-with-python-2nd/blob/main/chapter10_dl-for-timeseries.ipynb\" target=\"_parent\"><img src=\"https://colab.research.google.com/assets/colab-badge.svg\" alt=\"Open In Colab\"/></a>\n",
        "        </td>\n",
        "    </tr>\n",
        "</table>"
      ]
    },
    {
      "cell_type": "markdown",
      "metadata": {
        "id": "-jmgSYTnjbcU"
      },
      "source": [
        "# 시계열을 위한 딥러닝"
      ]
    },
    {
      "cell_type": "markdown",
      "metadata": {
        "id": "yqfO6TQzjbcV"
      },
      "source": [
        "## 다양한 종류의 시계열 작업"
      ]
    },
    {
      "cell_type": "markdown",
      "metadata": {
        "id": "rMlIvey2jbcV"
      },
      "source": [
        "## 기온 예측 문제"
      ]
    },
    {
      "cell_type": "code",
      "execution_count": 1,
      "metadata": {
        "execution": {
          "iopub.execute_input": "2022-05-20T13:26:55.453195Z",
          "iopub.status.busy": "2022-05-20T13:26:55.452690Z",
          "iopub.status.idle": "2022-05-20T13:26:58.879200Z",
          "shell.execute_reply": "2022-05-20T13:26:58.877667Z"
        },
        "id": "aUCXJRQgjbcV",
        "outputId": "4d3bdc84-b4bc-4cc7-aedc-bd8b171d997c",
        "colab": {
          "base_uri": "https://localhost:8080/"
        }
      },
      "outputs": [
        {
          "output_type": "stream",
          "name": "stdout",
          "text": [
            "--2023-05-10 01:15:18--  https://s3.amazonaws.com/keras-datasets/jena_climate_2009_2016.csv.zip\n",
            "Resolving s3.amazonaws.com (s3.amazonaws.com)... 52.216.107.174, 52.217.8.110, 52.217.37.222, ...\n",
            "Connecting to s3.amazonaws.com (s3.amazonaws.com)|52.216.107.174|:443... connected.\n",
            "HTTP request sent, awaiting response... 200 OK\n",
            "Length: 13565642 (13M) [application/zip]\n",
            "Saving to: ‘jena_climate_2009_2016.csv.zip’\n",
            "\n",
            "jena_climate_2009_2 100%[===================>]  12.94M  5.33MB/s    in 2.4s    \n",
            "\n",
            "2023-05-10 01:15:21 (5.33 MB/s) - ‘jena_climate_2009_2016.csv.zip’ saved [13565642/13565642]\n",
            "\n",
            "Archive:  jena_climate_2009_2016.csv.zip\n",
            "  inflating: jena_climate_2009_2016.csv  \n",
            "  inflating: __MACOSX/._jena_climate_2009_2016.csv  \n"
          ]
        }
      ],
      "source": [
        "!wget https://s3.amazonaws.com/keras-datasets/jena_climate_2009_2016.csv.zip\n",
        "!unzip jena_climate_2009_2016.csv.zip"
      ]
    },
    {
      "cell_type": "markdown",
      "metadata": {
        "id": "C93ZoFD3jbcX"
      },
      "source": [
        "**예나 날씨 데이터셋 조사하기**"
      ]
    },
    {
      "cell_type": "code",
      "execution_count": 2,
      "metadata": {
        "execution": {
          "iopub.execute_input": "2022-05-20T13:26:58.883391Z",
          "iopub.status.busy": "2022-05-20T13:26:58.883062Z",
          "iopub.status.idle": "2022-05-20T13:26:59.026206Z",
          "shell.execute_reply": "2022-05-20T13:26:59.025347Z"
        },
        "id": "Z-0eD31YjbcX",
        "outputId": "755f7aaa-dc93-4c69-ff5f-3952b6cfeeeb",
        "colab": {
          "base_uri": "https://localhost:8080/"
        }
      },
      "outputs": [
        {
          "output_type": "stream",
          "name": "stdout",
          "text": [
            "['\"Date Time\"', '\"p (mbar)\"', '\"T (degC)\"', '\"Tpot (K)\"', '\"Tdew (degC)\"', '\"rh (%)\"', '\"VPmax (mbar)\"', '\"VPact (mbar)\"', '\"VPdef (mbar)\"', '\"sh (g/kg)\"', '\"H2OC (mmol/mol)\"', '\"rho (g/m**3)\"', '\"wv (m/s)\"', '\"max. wv (m/s)\"', '\"wd (deg)\"']\n",
            "420451\n"
          ]
        }
      ],
      "source": [
        "import os\n",
        "fname = os.path.join(\"jena_climate_2009_2016.csv\")\n",
        "\n",
        "with open(fname) as f:\n",
        "    data = f.read()\n",
        "\n",
        "lines = data.split(\"\\n\")\n",
        "header = lines[0].split(\",\")\n",
        "lines = lines[1:]\n",
        "print(header)\n",
        "print(len(lines))"
      ]
    },
    {
      "cell_type": "code",
      "source": [
        "len(data)"
      ],
      "metadata": {
        "id": "S0YxP_LUOqwe",
        "outputId": "e8830996-7ffd-48d4-bf1a-2e4bb58f14d7",
        "colab": {
          "base_uri": "https://localhost:8080/"
        }
      },
      "execution_count": 3,
      "outputs": [
        {
          "output_type": "execute_result",
          "data": {
            "text/plain": [
              "43153572"
            ]
          },
          "metadata": {},
          "execution_count": 3
        }
      ]
    },
    {
      "cell_type": "code",
      "source": [
        "data[:200]"
      ],
      "metadata": {
        "id": "uljQ5il8Ot0D",
        "outputId": "289b2a59-7f18-4130-c4f4-62e72291ff82",
        "colab": {
          "base_uri": "https://localhost:8080/",
          "height": 35
        }
      },
      "execution_count": 6,
      "outputs": [
        {
          "output_type": "execute_result",
          "data": {
            "text/plain": [
              "'\"Date Time\",\"p (mbar)\",\"T (degC)\",\"Tpot (K)\",\"Tdew (degC)\",\"rh (%)\",\"VPmax (mbar)\",\"VPact (mbar)\",\"VPdef (mbar)\",\"sh (g/kg)\",\"H2OC (mmol/mol)\",\"rho (g/m**3)\",\"wv (m/s)\",\"max. wv (m/s)\",\"wd (deg)\"\\n01.0'"
            ],
            "application/vnd.google.colaboratory.intrinsic+json": {
              "type": "string"
            }
          },
          "metadata": {},
          "execution_count": 6
        }
      ]
    },
    {
      "cell_type": "code",
      "source": [
        "lines[:5]"
      ],
      "metadata": {
        "id": "2wPW9tRzO5a5",
        "outputId": "095be182-5333-493e-ec32-a196a9be14b2",
        "colab": {
          "base_uri": "https://localhost:8080/"
        }
      },
      "execution_count": 8,
      "outputs": [
        {
          "output_type": "execute_result",
          "data": {
            "text/plain": [
              "['01.01.2009 00:10:00,996.52,-8.02,265.40,-8.90,93.30,3.33,3.11,0.22,1.94,3.12,1307.75,1.03,1.75,152.30',\n",
              " '01.01.2009 00:20:00,996.57,-8.41,265.01,-9.28,93.40,3.23,3.02,0.21,1.89,3.03,1309.80,0.72,1.50,136.10',\n",
              " '01.01.2009 00:30:00,996.53,-8.51,264.91,-9.31,93.90,3.21,3.01,0.20,1.88,3.02,1310.24,0.19,0.63,171.60',\n",
              " '01.01.2009 00:40:00,996.51,-8.31,265.12,-9.07,94.20,3.26,3.07,0.19,1.92,3.08,1309.19,0.34,0.50,198.00',\n",
              " '01.01.2009 00:50:00,996.51,-8.27,265.15,-9.04,94.10,3.27,3.08,0.19,1.92,3.09,1309.00,0.32,0.63,214.30']"
            ]
          },
          "metadata": {},
          "execution_count": 8
        }
      ]
    },
    {
      "cell_type": "code",
      "source": [
        "header[:30]"
      ],
      "metadata": {
        "id": "Of3VgkCMPBXx",
        "outputId": "601acba2-dcba-4442-f2c0-9a3bce25aba7",
        "colab": {
          "base_uri": "https://localhost:8080/"
        }
      },
      "execution_count": 9,
      "outputs": [
        {
          "output_type": "execute_result",
          "data": {
            "text/plain": [
              "['\"Date Time\"',\n",
              " '\"p (mbar)\"',\n",
              " '\"T (degC)\"',\n",
              " '\"Tpot (K)\"',\n",
              " '\"Tdew (degC)\"',\n",
              " '\"rh (%)\"',\n",
              " '\"VPmax (mbar)\"',\n",
              " '\"VPact (mbar)\"',\n",
              " '\"VPdef (mbar)\"',\n",
              " '\"sh (g/kg)\"',\n",
              " '\"H2OC (mmol/mol)\"',\n",
              " '\"rho (g/m**3)\"',\n",
              " '\"wv (m/s)\"',\n",
              " '\"max. wv (m/s)\"',\n",
              " '\"wd (deg)\"']"
            ]
          },
          "metadata": {},
          "execution_count": 9
        }
      ]
    },
    {
      "cell_type": "markdown",
      "metadata": {
        "id": "kRnwyaNijbcY"
      },
      "source": [
        "**데이터 파싱**"
      ]
    },
    {
      "cell_type": "markdown",
      "source": [
        "lines의 콤마 정리 등 데이터 전처리"
      ],
      "metadata": {
        "id": "n6HU0SUUPX0I"
      }
    },
    {
      "cell_type": "code",
      "execution_count": 10,
      "metadata": {
        "execution": {
          "iopub.execute_input": "2022-05-20T13:26:59.030213Z",
          "iopub.status.busy": "2022-05-20T13:26:59.029492Z",
          "iopub.status.idle": "2022-05-20T13:27:00.936580Z",
          "shell.execute_reply": "2022-05-20T13:27:00.935499Z"
        },
        "id": "FiZFxhiCjbcY"
      },
      "outputs": [],
      "source": [
        "import numpy as np\n",
        "temperature = np.zeros((len(lines),))\n",
        "raw_data = np.zeros((len(lines), len(header) - 1))\n",
        "for i, line in enumerate(lines):\n",
        "    values = [float(x) for x in line.split(\",\")[1:]]\n",
        "    temperature[i] = values[1]\n",
        "    raw_data[i, :] = values[:]"
      ]
    },
    {
      "cell_type": "code",
      "source": [
        "raw_data"
      ],
      "metadata": {
        "id": "6Xja-YMxPpi2",
        "outputId": "8c0531de-3353-49ea-941f-93ad7dd513d0",
        "colab": {
          "base_uri": "https://localhost:8080/"
        }
      },
      "execution_count": 13,
      "outputs": [
        {
          "output_type": "execute_result",
          "data": {
            "text/plain": [
              "array([[ 9.9652e+02, -8.0200e+00,  2.6540e+02, ...,  1.0300e+00,\n",
              "         1.7500e+00,  1.5230e+02],\n",
              "       [ 9.9657e+02, -8.4100e+00,  2.6501e+02, ...,  7.2000e-01,\n",
              "         1.5000e+00,  1.3610e+02],\n",
              "       [ 9.9653e+02, -8.5100e+00,  2.6491e+02, ...,  1.9000e-01,\n",
              "         6.3000e-01,  1.7160e+02],\n",
              "       ...,\n",
              "       [ 9.9982e+02, -3.1600e+00,  2.7001e+02, ...,  1.0800e+00,\n",
              "         2.0000e+00,  2.1520e+02],\n",
              "       [ 9.9981e+02, -4.2300e+00,  2.6894e+02, ...,  1.4900e+00,\n",
              "         2.1600e+00,  2.2580e+02],\n",
              "       [ 9.9982e+02, -4.8200e+00,  2.6836e+02, ...,  1.2300e+00,\n",
              "         1.9600e+00,  1.8490e+02]])"
            ]
          },
          "metadata": {},
          "execution_count": 13
        }
      ]
    },
    {
      "cell_type": "code",
      "source": [
        "values"
      ],
      "metadata": {
        "id": "amQLg-tBPjhe",
        "outputId": "9b6bbbb9-3f86-4d90-e36c-c6ae0f152f0a",
        "colab": {
          "base_uri": "https://localhost:8080/"
        }
      },
      "execution_count": 12,
      "outputs": [
        {
          "output_type": "execute_result",
          "data": {
            "text/plain": [
              "[999.82,\n",
              " -4.82,\n",
              " 268.36,\n",
              " -8.42,\n",
              " 75.7,\n",
              " 4.27,\n",
              " 3.23,\n",
              " 1.04,\n",
              " 2.01,\n",
              " 3.23,\n",
              " 1296.38,\n",
              " 1.23,\n",
              " 1.96,\n",
              " 184.9]"
            ]
          },
          "metadata": {},
          "execution_count": 12
        }
      ]
    },
    {
      "cell_type": "markdown",
      "metadata": {
        "id": "b1MbsjsljbcZ"
      },
      "source": [
        "**전체 기온을 그래프로 그리기**"
      ]
    },
    {
      "cell_type": "code",
      "execution_count": 11,
      "metadata": {
        "execution": {
          "iopub.execute_input": "2022-05-20T13:27:00.940623Z",
          "iopub.status.busy": "2022-05-20T13:27:00.940326Z",
          "iopub.status.idle": "2022-05-20T13:27:02.011631Z",
          "shell.execute_reply": "2022-05-20T13:27:02.010321Z"
        },
        "id": "o6gAh5ecjbcZ",
        "outputId": "07087f17-e022-40a8-e156-ebb34fba8b5b",
        "colab": {
          "base_uri": "https://localhost:8080/",
          "height": 434
        }
      },
      "outputs": [
        {
          "output_type": "display_data",
          "data": {
            "text/plain": [
              "<Figure size 640x480 with 1 Axes>"
            ],
            "image/png": "[encoded data removed]"
          },
          "metadata": {}
        }
      ],
      "source": [
        "from matplotlib import pyplot as plt\n",
        "plt.plot(range(len(temperature)), temperature)\n",
        "plt.show()"
      ]
    },
    {
      "cell_type": "markdown",
      "metadata": {
        "id": "aALKlaFJjbcZ"
      },
      "source": [
        "**처음 10일간의 기온을 그래프로 그리기**"
      ]
    },
    {
      "cell_type": "code",
      "execution_count": 24,
      "metadata": {
        "execution": {
          "iopub.execute_input": "2022-05-20T13:27:02.015866Z",
          "iopub.status.busy": "2022-05-20T13:27:02.015374Z",
          "iopub.status.idle": "2022-05-20T13:27:02.123996Z",
          "shell.execute_reply": "2022-05-20T13:27:02.122754Z"
        },
        "id": "FGPdWjXujbca",
        "outputId": "c8746f3b-1799-44a2-bd9c-011687b2a044",
        "colab": {
          "base_uri": "https://localhost:8080/",
          "height": 430
        }
      },
      "outputs": [
        {
          "output_type": "display_data",
          "data": {
            "text/plain": [
              "<Figure size 640x480 with 1 Axes>"
            ],
            "image/png": "[encoded data removed]"
          },
          "metadata": {}
        }
      ],
      "source": [
        "plt.plot(range(1440), temperature[:1440])\n",
        "plt.show()\n"
      ]
    },
    {
      "cell_type": "markdown",
      "metadata": {
        "id": "QaZN550Xjbca"
      },
      "source": [
        "**각 분할에 사용할 샘플 수 계산하기**"
      ]
    },
    {
      "cell_type": "code",
      "execution_count": 15,
      "metadata": {
        "execution": {
          "iopub.execute_input": "2022-05-20T13:27:02.128070Z",
          "iopub.status.busy": "2022-05-20T13:27:02.127766Z",
          "iopub.status.idle": "2022-05-20T13:27:02.133998Z",
          "shell.execute_reply": "2022-05-20T13:27:02.132864Z"
        },
        "id": "YG7JjzJtjbca",
        "outputId": "4a6bf7d2-4bdb-4ee9-85bc-5e1f1f2cd969",
        "colab": {
          "base_uri": "https://localhost:8080/"
        }
      },
      "outputs": [
        {
          "output_type": "stream",
          "name": "stdout",
          "text": [
            "num_train_samples: 210225\n",
            "num_val_samples: 105112\n",
            "num_test_samples: 105114\n"
          ]
        }
      ],
      "source": [
        "num_train_samples = int(0.5 * len(raw_data))\n",
        "num_val_samples = int(0.25 * len(raw_data))\n",
        "num_test_samples = len(raw_data) - num_train_samples - num_val_samples\n",
        "print(\"num_train_samples:\", num_train_samples)\n",
        "print(\"num_val_samples:\", num_val_samples)\n",
        "print(\"num_test_samples:\", num_test_samples)"
      ]
    },
    {
      "cell_type": "markdown",
      "metadata": {
        "id": "B-GzlCYCjbcb"
      },
      "source": [
        "### 데이터 준비"
      ]
    },
    {
      "cell_type": "markdown",
      "metadata": {
        "id": "gsmS_D67jbcb"
      },
      "source": [
        "**데이터 정규화**"
      ]
    },
    {
      "cell_type": "code",
      "execution_count": 16,
      "metadata": {
        "execution": {
          "iopub.execute_input": "2022-05-20T13:27:02.137634Z",
          "iopub.status.busy": "2022-05-20T13:27:02.137353Z",
          "iopub.status.idle": "2022-05-20T13:27:02.191157Z",
          "shell.execute_reply": "2022-05-20T13:27:02.189956Z"
        },
        "id": "5BhCfjkrjbcb"
      },
      "outputs": [],
      "source": [
        "mean = raw_data[:num_train_samples].mean(axis=0)\n",
        "raw_data -= mean\n",
        "std = raw_data[:num_train_samples].std(axis=0)\n",
        "raw_data /= std"
      ]
    },
    {
      "cell_type": "code",
      "execution_count": 17,
      "metadata": {
        "execution": {
          "iopub.execute_input": "2022-05-20T13:27:02.195344Z",
          "iopub.status.busy": "2022-05-20T13:27:02.195011Z",
          "iopub.status.idle": "2022-05-20T13:27:02.314820Z",
          "shell.execute_reply": "2022-05-20T13:27:02.312523Z"
        },
        "id": "sgoxHRsPjbcb",
        "outputId": "16cbaa46-eb0a-4744-9034-cf300a0e0c5b",
        "colab": {
          "base_uri": "https://localhost:8080/"
        }
      },
      "outputs": [
        {
          "output_type": "stream",
          "name": "stdout",
          "text": [
            "[0, 1, 2] 3\n",
            "[1, 2, 3] 4\n",
            "[2, 3, 4] 5\n",
            "[3, 4, 5] 6\n",
            "[4, 5, 6] 7\n"
          ]
        }
      ],
      "source": [
        "import numpy as np\n",
        "from tensorflow import keras\n",
        "int_sequence = np.arange(10)\n",
        "dummy_dataset = keras.utils.timeseries_dataset_from_array(\n",
        "    data=int_sequence[:-3],\n",
        "    targets=int_sequence[3:],\n",
        "    sequence_length=3,\n",
        "    batch_size=2,\n",
        ")\n",
        "\n",
        "for inputs, targets in dummy_dataset:\n",
        "    for i in range(inputs.shape[0]):\n",
        "        print([int(x) for x in inputs[i]], int(targets[i]))"
      ]
    },
    {
      "cell_type": "markdown",
      "metadata": {
        "id": "n_d8n6Yqjbcb"
      },
      "source": [
        "**훈련, 검증, 테스트 데이터셋 만들기**"
      ]
    },
    {
      "cell_type": "markdown",
      "source": [
        "0부터 시작하므로 delay는 24시간 - 1\n",
        "\n",
        "sequence가 잘 정리되는지 확인할 필요가 있다 !\n"
      ],
      "metadata": {
        "id": "m5xTT9AOR4P_"
      }
    },
    {
      "cell_type": "code",
      "execution_count": 18,
      "metadata": {
        "execution": {
          "iopub.execute_input": "2022-05-20T13:27:02.318918Z",
          "iopub.status.busy": "2022-05-20T13:27:02.318531Z",
          "iopub.status.idle": "2022-05-20T13:27:02.483352Z",
          "shell.execute_reply": "2022-05-20T13:27:02.482263Z"
        },
        "id": "uts3EvXajbcc"
      },
      "outputs": [],
      "source": [
        "sampling_rate = 6\n",
        "sequence_length = 120\n",
        "delay = sampling_rate * (sequence_length + 24 - 1)\n",
        "batch_size = 256\n",
        "\n",
        "train_dataset = keras.utils.timeseries_dataset_from_array(\n",
        "    raw_data[:-delay],\n",
        "    targets=temperature[delay:],\n",
        "    sampling_rate=sampling_rate,\n",
        "    sequence_length=sequence_length,\n",
        "    shuffle=True,\n",
        "    batch_size=batch_size,\n",
        "    start_index=0,\n",
        "    end_index=num_train_samples)\n",
        "\n",
        "val_dataset = keras.utils.timeseries_dataset_from_array(\n",
        "    raw_data[:-delay],\n",
        "    targets=temperature[delay:],\n",
        "    sampling_rate=sampling_rate,\n",
        "    sequence_length=sequence_length,\n",
        "    shuffle=True,\n",
        "    batch_size=batch_size,\n",
        "    start_index=num_train_samples,\n",
        "    end_index=num_train_samples + num_val_samples)\n",
        "\n",
        "test_dataset = keras.utils.timeseries_dataset_from_array(\n",
        "    raw_data[:-delay],\n",
        "    targets=temperature[delay:],\n",
        "    sampling_rate=sampling_rate,\n",
        "    sequence_length=sequence_length,\n",
        "    shuffle=True,\n",
        "    batch_size=batch_size,\n",
        "    start_index=num_train_samples + num_val_samples)"
      ]
    },
    {
      "cell_type": "markdown",
      "metadata": {
        "id": "dZNUb2s2jbcc"
      },
      "source": [
        "**훈련 데이터셋의 배치 크기 확인하기**"
      ]
    },
    {
      "cell_type": "code",
      "execution_count": 19,
      "metadata": {
        "execution": {
          "iopub.execute_input": "2022-05-20T13:27:02.487516Z",
          "iopub.status.busy": "2022-05-20T13:27:02.487209Z",
          "iopub.status.idle": "2022-05-20T13:27:02.708306Z",
          "shell.execute_reply": "2022-05-20T13:27:02.707147Z"
        },
        "id": "pC_5Co8Zjbcc",
        "outputId": "5bb720a8-0614-4780-dcab-15e0b0e8495a",
        "colab": {
          "base_uri": "https://localhost:8080/"
        }
      },
      "outputs": [
        {
          "output_type": "stream",
          "name": "stdout",
          "text": [
            "샘플 크기: (256, 120, 14)\n",
            "타깃 크기: (256,)\n"
          ]
        }
      ],
      "source": [
        "for samples, targets in train_dataset:\n",
        "    print(\"샘플 크기:\", samples.shape)\n",
        "    print(\"타깃 크기:\", targets.shape)\n",
        "    break"
      ]
    },
    {
      "cell_type": "markdown",
      "metadata": {
        "id": "vdYKKLDjjbcd"
      },
      "source": [
        "### 상식 수준의 기준점"
      ]
    },
    {
      "cell_type": "markdown",
      "metadata": {
        "id": "OABELWY3jbcd"
      },
      "source": [
        "**상식적인 기준 모델의 MAE 계산하기**"
      ]
    },
    {
      "cell_type": "code",
      "execution_count": 20,
      "metadata": {
        "execution": {
          "iopub.execute_input": "2022-05-20T13:27:02.712723Z",
          "iopub.status.busy": "2022-05-20T13:27:02.712259Z",
          "iopub.status.idle": "2022-05-20T13:27:12.831040Z",
          "shell.execute_reply": "2022-05-20T13:27:12.829972Z"
        },
        "id": "-ryWeRYljbcd",
        "outputId": "5915b8c8-ae1e-4c44-a56c-a3da77bad35a",
        "colab": {
          "base_uri": "https://localhost:8080/"
        }
      },
      "outputs": [
        {
          "output_type": "stream",
          "name": "stdout",
          "text": [
            "검증 MAE: 2.44\n",
            "테스트 MAE: 2.62\n"
          ]
        }
      ],
      "source": [
        "def evaluate_naive_method(dataset):\n",
        "    total_abs_err = 0.\n",
        "    samples_seen = 0\n",
        "    for samples, targets in dataset:\n",
        "        preds = samples[:, -1, 1] * std[1] + mean[1]\n",
        "        total_abs_err += np.sum(np.abs(preds - targets))\n",
        "        samples_seen += samples.shape[0]\n",
        "    return total_abs_err / samples_seen\n",
        "\n",
        "print(f\"검증 MAE: {evaluate_naive_method(val_dataset):.2f}\")\n",
        "print(f\"테스트 MAE: {evaluate_naive_method(test_dataset):.2f}\")"
      ]
    },
    {
      "cell_type": "markdown",
      "metadata": {
        "id": "AwYpH902jbcd"
      },
      "source": [
        "### 기본적인 머신 러닝 모델 시도해 보기"
      ]
    },
    {
      "cell_type": "markdown",
      "metadata": {
        "id": "g8shk8fVjbcd"
      },
      "source": [
        "**밀집 연결 모델 훈련하고 평가하기**"
      ]
    },
    {
      "cell_type": "code",
      "execution_count": 21,
      "metadata": {
        "execution": {
          "iopub.execute_input": "2022-05-20T13:27:12.835455Z",
          "iopub.status.busy": "2022-05-20T13:27:12.834662Z",
          "iopub.status.idle": "2022-05-20T13:30:16.406591Z",
          "shell.execute_reply": "2022-05-20T13:30:16.405650Z"
        },
        "id": "AnkykZycjbcd",
        "outputId": "51df3b4b-d776-4298-dd98-72506545e05d",
        "colab": {
          "base_uri": "https://localhost:8080/"
        }
      },
      "outputs": [
        {
          "output_type": "stream",
          "name": "stdout",
          "text": [
            "Epoch 1/10\n",
            "819/819 [==============================] - 48s 52ms/step - loss: 12.7093 - mae: 2.7625 - val_loss: 11.3300 - val_mae: 2.6568\n",
            "Epoch 2/10\n",
            "819/819 [==============================] - 43s 52ms/step - loss: 9.2111 - mae: 2.3904 - val_loss: 9.8811 - val_mae: 2.4920\n",
            "Epoch 3/10\n",
            "819/819 [==============================] - 42s 51ms/step - loss: 8.4641 - mae: 2.2932 - val_loss: 12.4325 - val_mae: 2.7946\n",
            "Epoch 4/10\n",
            "819/819 [==============================] - 43s 52ms/step - loss: 8.0032 - mae: 2.2282 - val_loss: 10.5410 - val_mae: 2.5688\n",
            "Epoch 5/10\n",
            "819/819 [==============================] - 44s 53ms/step - loss: 7.6446 - mae: 2.1814 - val_loss: 10.4437 - val_mae: 2.5545\n",
            "Epoch 6/10\n",
            "819/819 [==============================] - 43s 52ms/step - loss: 7.3733 - mae: 2.1430 - val_loss: 11.3449 - val_mae: 2.6629\n",
            "Epoch 7/10\n",
            "819/819 [==============================] - 43s 52ms/step - loss: 7.2006 - mae: 2.1165 - val_loss: 12.3251 - val_mae: 2.7915\n",
            "Epoch 8/10\n",
            "819/819 [==============================] - 42s 51ms/step - loss: 6.9995 - mae: 2.0887 - val_loss: 10.9273 - val_mae: 2.5977\n",
            "Epoch 9/10\n",
            "819/819 [==============================] - 43s 52ms/step - loss: 6.8693 - mae: 2.0687 - val_loss: 10.8055 - val_mae: 2.6040\n",
            "Epoch 10/10\n",
            "819/819 [==============================] - 43s 52ms/step - loss: 6.7391 - mae: 2.0493 - val_loss: 10.7445 - val_mae: 2.5985\n",
            "405/405 [==============================] - 15s 37ms/step - loss: 10.8829 - mae: 2.5963\n",
            "테스트 MAE: 2.60\n"
          ]
        }
      ],
      "source": [
        "from tensorflow import keras\n",
        "from tensorflow.keras import layers\n",
        "\n",
        "inputs = keras.Input(shape=(sequence_length, raw_data.shape[-1]))\n",
        "x = layers.Flatten()(inputs)\n",
        "x = layers.Dense(16, activation=\"relu\")(x)\n",
        "outputs = layers.Dense(1)(x)\n",
        "model = keras.Model(inputs, outputs)\n",
        "\n",
        "callbacks = [\n",
        "    keras.callbacks.ModelCheckpoint(\"jena_dense.keras\",\n",
        "                                    save_best_only=True)\n",
        "]\n",
        "model.compile(optimizer=\"rmsprop\", loss=\"mse\", metrics=[\"mae\"])\n",
        "history = model.fit(train_dataset,\n",
        "                    epochs=10,\n",
        "                    validation_data=val_dataset,\n",
        "                    callbacks=callbacks)\n",
        "\n",
        "model = keras.models.load_model(\"jena_dense.keras\")\n",
        "print(f\"테스트 MAE: {model.evaluate(test_dataset)[1]:.2f}\")"
      ]
    },
    {
      "cell_type": "markdown",
      "metadata": {
        "id": "lmTjKA_qjbce"
      },
      "source": [
        "**결과 그래프 그리기**"
      ]
    },
    {
      "cell_type": "code",
      "execution_count": 26,
      "metadata": {
        "execution": {
          "iopub.execute_input": "2022-05-20T13:30:16.410386Z",
          "iopub.status.busy": "2022-05-20T13:30:16.410076Z",
          "iopub.status.idle": "2022-05-20T13:30:16.562302Z",
          "shell.execute_reply": "2022-05-20T13:30:16.561390Z"
        },
        "id": "GE_ngKAZjbce",
        "outputId": "34cdc78c-a165-49c1-d652-026dfd70a93c",
        "colab": {
          "base_uri": "https://localhost:8080/",
          "height": 662
        }
      },
      "outputs": [
        {
          "output_type": "error",
          "ename": "AttributeError",
          "evalue": "ignored",
          "traceback": [
            "\u001b[0;31m---------------------------------------------------------------------------\u001b[0m",
            "\u001b[0;31mAttributeError\u001b[0m                            Traceback (most recent call last)",
            "\u001b[0;32m<ipython-input-26-6cb708cabdbf>\u001b[0m in \u001b[0;36m<cell line: 8>\u001b[0;34m()\u001b[0m\n\u001b[1;32m      6\u001b[0m \u001b[0mplt\u001b[0m\u001b[0;34m.\u001b[0m\u001b[0mplot\u001b[0m\u001b[0;34m(\u001b[0m\u001b[0mepochs\u001b[0m\u001b[0;34m,\u001b[0m \u001b[0mloss\u001b[0m\u001b[0;34m,\u001b[0m \u001b[0;34m\"bo\"\u001b[0m\u001b[0;34m,\u001b[0m \u001b[0mlabel\u001b[0m\u001b[0;34m=\u001b[0m\u001b[0;34m\"Training MAE\"\u001b[0m\u001b[0;34m)\u001b[0m\u001b[0;34m\u001b[0m\u001b[0;34m\u001b[0m\u001b[0m\n\u001b[1;32m      7\u001b[0m \u001b[0mplt\u001b[0m\u001b[0;34m.\u001b[0m\u001b[0mplot\u001b[0m\u001b[0;34m(\u001b[0m\u001b[0mepochs\u001b[0m\u001b[0;34m,\u001b[0m \u001b[0mval_loss\u001b[0m\u001b[0;34m,\u001b[0m \u001b[0;34m\"b\"\u001b[0m\u001b[0;34m,\u001b[0m \u001b[0mlabel\u001b[0m\u001b[0;34m=\u001b[0m\u001b[0;34m\"Validation MAE\"\u001b[0m\u001b[0;34m)\u001b[0m\u001b[0;34m\u001b[0m\u001b[0;34m\u001b[0m\u001b[0m\n\u001b[0;32m----> 8\u001b[0;31m \u001b[0mplt\u001b[0m\u001b[0;34m.\u001b[0m\u001b[0mtitle\u001b[0m\u001b[0;34m(\u001b[0m\u001b[0;34m\"Training and validation MAE\"\u001b[0m\u001b[0;34m)\u001b[0m\u001b[0;34m.\u001b[0m\u001b[0mplt\u001b[0m\u001b[0;34m.\u001b[0m\u001b[0mlegend\u001b[0m\u001b[0;34m(\u001b[0m\u001b[0;34m)\u001b[0m\u001b[0;34m\u001b[0m\u001b[0;34m\u001b[0m\u001b[0m\n\u001b[0m\u001b[1;32m      9\u001b[0m \u001b[0mplt\u001b[0m\u001b[0;34m.\u001b[0m\u001b[0mshow\u001b[0m\u001b[0;34m(\u001b[0m\u001b[0;34m)\u001b[0m\u001b[0;34m\u001b[0m\u001b[0;34m\u001b[0m\u001b[0m\n",
            "\u001b[0;31mAttributeError\u001b[0m: 'Text' object has no attribute 'plt'"
          ]
        },
        {
          "output_type": "display_data",
          "data": {
            "text/plain": [
              "<Figure size 640x480 with 1 Axes>"
            ],
            "image/png": "[encoded data removed]"
          },
          "metadata": {}
        }
      ],
      "source": [
        "import matplotlib.pyplot as plt\n",
        "loss = history.history[\"mae\"]\n",
        "val_loss = history.history[\"val_mae\"]\n",
        "epochs = range(1, len(loss) + 1)\n",
        "plt.figure()\n",
        "plt.plot(epochs, loss, \"bo\", label=\"Training MAE\")\n",
        "plt.plot(epochs, val_loss, \"b\", label=\"Validation MAE\")\n",
        "plt.title(\"Training and validation MAE\").plt.legend()\n",
        "plt.show()"
      ]
    },
    {
      "cell_type": "markdown",
      "metadata": {
        "id": "nHd3-Y89jbce"
      },
      "source": [
        "### 1D 합성곱 모델 시도해 보기"
      ]
    },
    {
      "cell_type": "code",
      "execution_count": 27,
      "metadata": {
        "execution": {
          "iopub.execute_input": "2022-05-20T13:30:16.566194Z",
          "iopub.status.busy": "2022-05-20T13:30:16.565904Z",
          "iopub.status.idle": "2022-05-20T13:35:49.724331Z",
          "shell.execute_reply": "2022-05-20T13:35:49.723349Z"
        },
        "id": "MIodgX8jjbce",
        "outputId": "b4ac10ee-462a-4f2d-9684-a6c31182ce8e",
        "colab": {
          "base_uri": "https://localhost:8080/"
        }
      },
      "outputs": [
        {
          "output_type": "stream",
          "name": "stdout",
          "text": [
            "Epoch 1/10\n",
            "819/819 [==============================] - 58s 63ms/step - loss: 23.4552 - mae: 3.8162 - val_loss: 19.4421 - val_mae: 3.5258\n",
            "Epoch 2/10\n",
            "819/819 [==============================] - 44s 53ms/step - loss: 15.6112 - mae: 3.1492 - val_loss: 14.4601 - val_mae: 2.9904\n",
            "Epoch 3/10\n",
            "819/819 [==============================] - 44s 53ms/step - loss: 13.8637 - mae: 2.9688 - val_loss: 13.7814 - val_mae: 2.9155\n",
            "Epoch 4/10\n",
            "819/819 [==============================] - 44s 54ms/step - loss: 13.0031 - mae: 2.8708 - val_loss: 17.6605 - val_mae: 3.3057\n",
            "Epoch 5/10\n",
            "819/819 [==============================] - 42s 51ms/step - loss: 12.3951 - mae: 2.7970 - val_loss: 14.3820 - val_mae: 2.9579\n",
            "Epoch 6/10\n",
            "819/819 [==============================] - 44s 53ms/step - loss: 11.9164 - mae: 2.7378 - val_loss: 13.4193 - val_mae: 2.8729\n",
            "Epoch 7/10\n",
            "819/819 [==============================] - 42s 51ms/step - loss: 11.4838 - mae: 2.6875 - val_loss: 13.5259 - val_mae: 2.8659\n",
            "Epoch 8/10\n",
            "819/819 [==============================] - 44s 53ms/step - loss: 11.1730 - mae: 2.6501 - val_loss: 16.8680 - val_mae: 3.2296\n",
            "Epoch 9/10\n",
            "819/819 [==============================] - 43s 52ms/step - loss: 10.8831 - mae: 2.6135 - val_loss: 15.3087 - val_mae: 3.0726\n",
            "Epoch 10/10\n",
            "819/819 [==============================] - 43s 52ms/step - loss: 10.5925 - mae: 2.5796 - val_loss: 14.9051 - val_mae: 3.0131\n",
            "405/405 [==============================] - 14s 35ms/step - loss: 15.5089 - mae: 3.1198\n",
            "테스트 MAE: 3.12\n"
          ]
        }
      ],
      "source": [
        "inputs = keras.Input(shape=(sequence_length, raw_data.shape[-1]))\n",
        "x = layers.Conv1D(8, 24, activation=\"relu\")(inputs)\n",
        "x = layers.MaxPooling1D(2)(x)\n",
        "x = layers.Conv1D(8, 12, activation=\"relu\")(x)\n",
        "x = layers.MaxPooling1D(2)(x)\n",
        "x = layers.Conv1D(8, 6, activation=\"relu\")(x)\n",
        "x = layers.GlobalAveragePooling1D()(x)\n",
        "outputs = layers.Dense(1)(x)\n",
        "model = keras.Model(inputs, outputs)\n",
        "\n",
        "callbacks = [\n",
        "    keras.callbacks.ModelCheckpoint(\"jena_conv.keras\",\n",
        "                                    save_best_only=True)\n",
        "]\n",
        "model.compile(optimizer=\"rmsprop\", loss=\"mse\", metrics=[\"mae\"])\n",
        "history = model.fit(train_dataset,\n",
        "                    epochs=10,\n",
        "                    validation_data=val_dataset,\n",
        "                    callbacks=callbacks)\n",
        "\n",
        "model = keras.models.load_model(\"jena_conv.keras\")\n",
        "print(f\"테스트 MAE: {model.evaluate(test_dataset)[1]:.2f}\")"
      ]
    },
    {
      "cell_type": "code",
      "execution_count": 28,
      "metadata": {
        "execution": {
          "iopub.execute_input": "2022-05-20T13:35:49.728113Z",
          "iopub.status.busy": "2022-05-20T13:35:49.727783Z",
          "iopub.status.idle": "2022-05-20T13:35:49.850064Z",
          "shell.execute_reply": "2022-05-20T13:35:49.849311Z"
        },
        "id": "twXzOJXkjbce",
        "outputId": "7445029d-71c1-490e-9cc9-2f9b834debf4",
        "colab": {
          "base_uri": "https://localhost:8080/",
          "height": 452
        }
      },
      "outputs": [
        {
          "output_type": "display_data",
          "data": {
            "text/plain": [
              "<Figure size 640x480 with 1 Axes>"
            ],
            "image/png": "[encoded data removed]"
          },
          "metadata": {}
        }
      ],
      "source": [
        "loss = history.history[\"mae\"]\n",
        "val_loss = history.history[\"val_mae\"]\n",
        "epochs = range(1, len(loss) + 1)\n",
        "plt.figure()\n",
        "plt.plot(epochs, loss, \"bo\", label=\"Training MAE\")\n",
        "plt.plot(epochs, val_loss, \"b\", label=\"Validation MAE\")\n",
        "plt.title(\"Training and validation MAE\")\n",
        "plt.legend()\n",
        "plt.show()"
      ]
    },
    {
      "cell_type": "markdown",
      "metadata": {
        "id": "SIVEXb7ojbcf"
      },
      "source": [
        "### 첫 번째 순환 신경망"
      ]
    },
    {
      "cell_type": "markdown",
      "metadata": {
        "id": "KGsF8BjGjbcf"
      },
      "source": [
        "**간단한 LSTM 기반 모델**"
      ]
    },
    {
      "cell_type": "code",
      "execution_count": 29,
      "metadata": {
        "execution": {
          "iopub.execute_input": "2022-05-20T13:35:49.855589Z",
          "iopub.status.busy": "2022-05-20T13:35:49.855249Z",
          "iopub.status.idle": "2022-05-20T13:46:15.333207Z",
          "shell.execute_reply": "2022-05-20T13:46:15.332248Z"
        },
        "id": "ElIY09G2jbcg",
        "outputId": "98e36a29-ae8c-45e9-ecf8-57c17cd5bff4",
        "colab": {
          "base_uri": "https://localhost:8080/"
        }
      },
      "outputs": [
        {
          "output_type": "stream",
          "name": "stdout",
          "text": [
            "Epoch 1/10\n",
            "819/819 [==============================] - 50s 58ms/step - loss: 42.0636 - mae: 4.6964 - val_loss: 12.4846 - val_mae: 2.6662\n",
            "Epoch 2/10\n",
            "819/819 [==============================] - 47s 57ms/step - loss: 10.7843 - mae: 2.5597 - val_loss: 9.6058 - val_mae: 2.4120\n",
            "Epoch 3/10\n",
            "819/819 [==============================] - 52s 63ms/step - loss: 9.7150 - mae: 2.4354 - val_loss: 9.5698 - val_mae: 2.4031\n",
            "Epoch 4/10\n",
            "819/819 [==============================] - 45s 55ms/step - loss: 9.2449 - mae: 2.3720 - val_loss: 9.4466 - val_mae: 2.3935\n",
            "Epoch 5/10\n",
            "819/819 [==============================] - 45s 55ms/step - loss: 8.8057 - mae: 2.3141 - val_loss: 9.7327 - val_mae: 2.4164\n",
            "Epoch 6/10\n",
            "819/819 [==============================] - 46s 56ms/step - loss: 8.4568 - mae: 2.2659 - val_loss: 9.8329 - val_mae: 2.4343\n",
            "Epoch 7/10\n",
            "819/819 [==============================] - 46s 56ms/step - loss: 8.2023 - mae: 2.2302 - val_loss: 9.8123 - val_mae: 2.4447\n",
            "Epoch 8/10\n",
            "819/819 [==============================] - 52s 64ms/step - loss: 8.0015 - mae: 2.2035 - val_loss: 9.5709 - val_mae: 2.4146\n",
            "Epoch 9/10\n",
            "819/819 [==============================] - 46s 55ms/step - loss: 7.7827 - mae: 2.1749 - val_loss: 9.9732 - val_mae: 2.4779\n",
            "Epoch 10/10\n",
            "819/819 [==============================] - 45s 55ms/step - loss: 7.5983 - mae: 2.1505 - val_loss: 10.0314 - val_mae: 2.4885\n",
            "405/405 [==============================] - 15s 34ms/step - loss: 10.3566 - mae: 2.5338\n",
            "테스트 MAE: 2.53\n"
          ]
        }
      ],
      "source": [
        "inputs = keras.Input(shape=(sequence_length, raw_data.shape[-1]))\n",
        "x = layers.LSTM(16)(inputs)\n",
        "outputs = layers.Dense(1)(x)\n",
        "model = keras.Model(inputs, outputs)\n",
        "\n",
        "callbacks = [\n",
        "    keras.callbacks.ModelCheckpoint(\"jena_lstm.keras\",\n",
        "                                    save_best_only=True)\n",
        "]\n",
        "model.compile(optimizer=\"rmsprop\", loss=\"mse\", metrics=[\"mae\"])\n",
        "history = model.fit(train_dataset,\n",
        "                    epochs=10,\n",
        "                    validation_data=val_dataset,\n",
        "                    callbacks=callbacks)\n",
        "\n",
        "model = keras.models.load_model(\"jena_lstm.keras\")\n",
        "print(f\"테스트 MAE: {model.evaluate(test_dataset)[1]:.2f}\")"
      ]
    },
    {
      "cell_type": "code",
      "execution_count": null,
      "metadata": {
        "execution": {
          "iopub.execute_input": "2022-05-20T13:46:15.336897Z",
          "iopub.status.busy": "2022-05-20T13:46:15.336598Z",
          "iopub.status.idle": "2022-05-20T13:46:15.462410Z",
          "shell.execute_reply": "2022-05-20T13:46:15.461466Z"
        },
        "id": "EX3qK89tjbcg",
        "outputId": "85a6d8cc-7f1a-458a-e83e-37522242c58b",
        "colab": {
          "base_uri": "https://localhost:8080/",
          "height": 281
        }
      },
      "outputs": [
        {
          "output_type": "display_data",
          "data": {
            "text/plain": [
              "<Figure size 432x288 with 1 Axes>"
            ],
            "image/png": "[encoded data removed]"
          },
          "metadata": {
            "needs_background": "light"
          }
        }
      ],
      "source": [
        "loss = history.history[\"mae\"]\n",
        "val_loss = history.history[\"val_mae\"]\n",
        "epochs = range(1, len(loss) + 1)\n",
        "plt.figure()\n",
        "plt.plot(epochs, loss, \"bo\", label=\"Training MAE\")\n",
        "plt.plot(epochs, val_loss, \"b\", label=\"Validation MAE\")\n",
        "plt.title(\"Training and validation MAE\")\n",
        "plt.legend()\n",
        "plt.show()"
      ]
    },
    {
      "cell_type": "markdown",
      "metadata": {
        "id": "OjfiTkmOjbcg"
      },
      "source": [
        "## 순환 신경망 이해하기"
      ]
    },
    {
      "cell_type": "markdown",
      "metadata": {
        "id": "11qaJzuKjbcg"
      },
      "source": [
        "**넘파이로 구현한 간단한 RNN**"
      ]
    },
    {
      "cell_type": "code",
      "execution_count": null,
      "metadata": {
        "execution": {
          "iopub.execute_input": "2022-05-20T13:46:15.466402Z",
          "iopub.status.busy": "2022-05-20T13:46:15.466102Z",
          "iopub.status.idle": "2022-05-20T13:46:15.474183Z",
          "shell.execute_reply": "2022-05-20T13:46:15.473353Z"
        },
        "id": "LqYsbiAGjbcg"
      },
      "outputs": [],
      "source": [
        "import numpy as np\n",
        "timesteps = 100\n",
        "input_features = 32\n",
        "output_features = 64\n",
        "inputs = np.random.random((timesteps, input_features))\n",
        "state_t = np.zeros((output_features,))\n",
        "W = np.random.random((output_features, input_features))\n",
        "U = np.random.random((output_features, output_features))\n",
        "b = np.random.random((output_features,))\n",
        "successive_outputs = []\n",
        "for input_t in inputs:\n",
        "    output_t = np.tanh(np.dot(W, input_t) + np.dot(U, state_t) + b)\n",
        "    successive_outputs.append(output_t)\n",
        "    state_t = output_t\n",
        "final_output_sequence = np.stack(successive_outputs, axis=0)"
      ]
    },
    {
      "cell_type": "markdown",
      "metadata": {
        "id": "m5_JDLW5jbch"
      },
      "source": [
        "### 케라스의 순환 층"
      ]
    },
    {
      "cell_type": "markdown",
      "metadata": {
        "id": "8scRPX8yjbch"
      },
      "source": [
        "**어떤 길이의 시퀀스도 처리할 수 있는 RNN 층**"
      ]
    },
    {
      "cell_type": "code",
      "execution_count": null,
      "metadata": {
        "execution": {
          "iopub.execute_input": "2022-05-20T13:46:15.477895Z",
          "iopub.status.busy": "2022-05-20T13:46:15.477617Z",
          "iopub.status.idle": "2022-05-20T13:46:15.532690Z",
          "shell.execute_reply": "2022-05-20T13:46:15.531842Z"
        },
        "id": "RDRvy-SDjbch"
      },
      "outputs": [],
      "source": [
        "num_features = 14\n",
        "inputs = keras.Input(shape=(None, num_features))\n",
        "outputs = layers.SimpleRNN(16)(inputs)"
      ]
    },
    {
      "cell_type": "markdown",
      "metadata": {
        "id": "d_cZi_TVjbch"
      },
      "source": [
        "**마지막 출력 스텝만 반환하는 RNN 층**"
      ]
    },
    {
      "cell_type": "code",
      "execution_count": null,
      "metadata": {
        "execution": {
          "iopub.execute_input": "2022-05-20T13:46:15.536872Z",
          "iopub.status.busy": "2022-05-20T13:46:15.536352Z",
          "iopub.status.idle": "2022-05-20T13:46:15.590222Z",
          "shell.execute_reply": "2022-05-20T13:46:15.589305Z"
        },
        "id": "7OpmWg1yjbch",
        "outputId": "c64adf1d-ae20-4ff6-fec7-463326952b9e",
        "colab": {
          "base_uri": "https://localhost:8080/"
        }
      },
      "outputs": [
        {
          "output_type": "stream",
          "name": "stdout",
          "text": [
            "(None, 16)\n"
          ]
        }
      ],
      "source": [
        "num_features = 14\n",
        "steps = 120\n",
        "inputs = keras.Input(shape=(steps, num_features))\n",
        "outputs = layers.SimpleRNN(16, return_sequences=False)(inputs)\n",
        "print(outputs.shape)"
      ]
    },
    {
      "cell_type": "markdown",
      "metadata": {
        "id": "MvXPhL0qjbch"
      },
      "source": [
        "**전체 출력 시퀀스를 반환하는 RNN 층**"
      ]
    },
    {
      "cell_type": "code",
      "execution_count": null,
      "metadata": {
        "execution": {
          "iopub.execute_input": "2022-05-20T13:46:15.594315Z",
          "iopub.status.busy": "2022-05-20T13:46:15.593481Z",
          "iopub.status.idle": "2022-05-20T13:46:15.647526Z",
          "shell.execute_reply": "2022-05-20T13:46:15.646394Z"
        },
        "id": "jDKDaTY9jbch",
        "outputId": "e8776893-816f-44bf-e387-b9d9ede3930f",
        "colab": {
          "base_uri": "https://localhost:8080/"
        }
      },
      "outputs": [
        {
          "output_type": "stream",
          "name": "stdout",
          "text": [
            "(None, 120, 16)\n"
          ]
        }
      ],
      "source": [
        "num_features = 14\n",
        "steps = 120\n",
        "inputs = keras.Input(shape=(steps, num_features))\n",
        "outputs = layers.SimpleRNN(16, return_sequences=True)(inputs)\n",
        "print(outputs.shape)"
      ]
    },
    {
      "cell_type": "markdown",
      "metadata": {
        "id": "Twps5rVojbch"
      },
      "source": [
        "**스태킹(stacking) RNN 층**"
      ]
    },
    {
      "cell_type": "code",
      "execution_count": null,
      "metadata": {
        "execution": {
          "iopub.execute_input": "2022-05-20T13:46:15.651371Z",
          "iopub.status.busy": "2022-05-20T13:46:15.651069Z",
          "iopub.status.idle": "2022-05-20T13:46:15.801889Z",
          "shell.execute_reply": "2022-05-20T13:46:15.801117Z"
        },
        "id": "WCXNh9L6jbci"
      },
      "outputs": [],
      "source": [
        "inputs = keras.Input(shape=(steps, num_features))\n",
        "x = layers.SimpleRNN(16, return_sequences=True)(inputs)\n",
        "x = layers.SimpleRNN(16, return_sequences=True)(x)\n",
        "outputs = layers.SimpleRNN(16)(x)"
      ]
    },
    {
      "cell_type": "markdown",
      "metadata": {
        "id": "5UTaHUSfjbci"
      },
      "source": [
        "## 순환 신경망의 고급 사용법"
      ]
    },
    {
      "cell_type": "markdown",
      "metadata": {
        "id": "HfvBqBgLjbci"
      },
      "source": [
        "### 과대적합을 감소하기 위해 순환 드롭아웃 사용하기"
      ]
    },
    {
      "cell_type": "markdown",
      "metadata": {
        "id": "tzGShMPQjbci"
      },
      "source": [
        "**드롭아웃 규제를 적용한 LSTM 모델 훈련하고 평가하기**"
      ]
    },
    {
      "cell_type": "code",
      "execution_count": null,
      "metadata": {
        "execution": {
          "iopub.execute_input": "2022-05-20T13:46:15.806506Z",
          "iopub.status.busy": "2022-05-20T13:46:15.805817Z",
          "iopub.status.idle": "2022-05-20T15:04:54.368986Z",
          "shell.execute_reply": "2022-05-20T15:04:54.368048Z"
        },
        "id": "ZDfwJ1Osjbci",
        "outputId": "b674711b-bc40-43cf-990b-4bb0b9ef95ee",
        "colab": {
          "base_uri": "https://localhost:8080/"
        }
      },
      "outputs": [
        {
          "output_type": "stream",
          "name": "stdout",
          "text": [
            "Epoch 1/50\n",
            "819/819 [==============================] - 17s 18ms/step - loss: 27.8302 - mae: 3.8852 - val_loss: 9.9197 - val_mae: 2.4421\n",
            "Epoch 2/50\n",
            "819/819 [==============================] - 15s 18ms/step - loss: 14.7294 - mae: 2.9779 - val_loss: 10.0012 - val_mae: 2.4524\n",
            "Epoch 3/50\n",
            "819/819 [==============================] - 15s 18ms/step - loss: 13.9053 - mae: 2.8905 - val_loss: 9.7905 - val_mae: 2.4306\n",
            "Epoch 4/50\n",
            "819/819 [==============================] - 15s 18ms/step - loss: 13.2728 - mae: 2.8218 - val_loss: 9.2261 - val_mae: 2.3659\n",
            "Epoch 5/50\n",
            "819/819 [==============================] - 15s 19ms/step - loss: 12.7657 - mae: 2.7694 - val_loss: 9.5253 - val_mae: 2.4081\n",
            "Epoch 6/50\n",
            "819/819 [==============================] - 15s 19ms/step - loss: 12.2899 - mae: 2.7184 - val_loss: 9.3455 - val_mae: 2.3839\n",
            "Epoch 7/50\n",
            "819/819 [==============================] - 15s 19ms/step - loss: 11.9756 - mae: 2.6825 - val_loss: 9.7602 - val_mae: 2.4408\n",
            "Epoch 8/50\n",
            "819/819 [==============================] - 15s 19ms/step - loss: 11.5854 - mae: 2.6393 - val_loss: 9.7755 - val_mae: 2.4540\n",
            "Epoch 9/50\n",
            "819/819 [==============================] - 15s 18ms/step - loss: 11.2994 - mae: 2.6079 - val_loss: 9.7048 - val_mae: 2.4522\n",
            "Epoch 10/50\n",
            "819/819 [==============================] - 16s 19ms/step - loss: 11.0032 - mae: 2.5726 - val_loss: 10.0229 - val_mae: 2.4870\n",
            "Epoch 11/50\n",
            "819/819 [==============================] - 16s 19ms/step - loss: 10.7427 - mae: 2.5426 - val_loss: 10.0071 - val_mae: 2.4741\n",
            "Epoch 12/50\n",
            "819/819 [==============================] - 15s 18ms/step - loss: 10.5363 - mae: 2.5181 - val_loss: 10.0539 - val_mae: 2.4906\n",
            "Epoch 13/50\n",
            "819/819 [==============================] - 15s 19ms/step - loss: 10.2568 - mae: 2.4868 - val_loss: 9.9774 - val_mae: 2.4615\n",
            "Epoch 14/50\n",
            "819/819 [==============================] - 15s 18ms/step - loss: 10.1436 - mae: 2.4754 - val_loss: 9.9043 - val_mae: 2.4706\n",
            "Epoch 15/50\n",
            "819/819 [==============================] - 15s 18ms/step - loss: 9.9126 - mae: 2.4453 - val_loss: 10.8807 - val_mae: 2.5845\n",
            "Epoch 16/50\n",
            "819/819 [==============================] - 15s 18ms/step - loss: 9.7283 - mae: 2.4228 - val_loss: 10.3049 - val_mae: 2.5093\n",
            "Epoch 17/50\n",
            "819/819 [==============================] - 15s 18ms/step - loss: 9.6204 - mae: 2.4095 - val_loss: 10.7130 - val_mae: 2.5606\n",
            "Epoch 18/50\n",
            "819/819 [==============================] - 15s 18ms/step - loss: 9.5127 - mae: 2.3954 - val_loss: 11.0451 - val_mae: 2.5935\n",
            "Epoch 19/50\n",
            "819/819 [==============================] - 15s 19ms/step - loss: 9.3654 - mae: 2.3796 - val_loss: 10.5213 - val_mae: 2.5339\n",
            "Epoch 20/50\n",
            "819/819 [==============================] - 15s 18ms/step - loss: 9.2348 - mae: 2.3565 - val_loss: 10.8843 - val_mae: 2.5733\n",
            "Epoch 21/50\n",
            "819/819 [==============================] - 15s 18ms/step - loss: 9.1373 - mae: 2.3477 - val_loss: 10.9190 - val_mae: 2.6010\n",
            "Epoch 22/50\n",
            "819/819 [==============================] - 15s 18ms/step - loss: 9.0214 - mae: 2.3312 - val_loss: 10.6842 - val_mae: 2.5741\n",
            "Epoch 23/50\n",
            "819/819 [==============================] - 15s 18ms/step - loss: 8.9849 - mae: 2.3270 - val_loss: 11.1295 - val_mae: 2.6046\n",
            "Epoch 24/50\n",
            "819/819 [==============================] - 15s 18ms/step - loss: 8.8910 - mae: 2.3133 - val_loss: 11.2977 - val_mae: 2.6259\n",
            "Epoch 25/50\n",
            "819/819 [==============================] - 15s 18ms/step - loss: 8.7409 - mae: 2.2973 - val_loss: 11.2490 - val_mae: 2.6123\n",
            "Epoch 26/50\n",
            "819/819 [==============================] - 16s 19ms/step - loss: 8.6659 - mae: 2.2830 - val_loss: 11.2884 - val_mae: 2.6373\n",
            "Epoch 27/50\n",
            "819/819 [==============================] - 15s 18ms/step - loss: 8.5297 - mae: 2.2668 - val_loss: 11.0510 - val_mae: 2.6097\n",
            "Epoch 28/50\n",
            "819/819 [==============================] - 15s 18ms/step - loss: 8.5392 - mae: 2.2664 - val_loss: 11.7980 - val_mae: 2.6818\n",
            "Epoch 29/50\n",
            "819/819 [==============================] - 15s 18ms/step - loss: 8.4709 - mae: 2.2589 - val_loss: 11.2271 - val_mae: 2.6211\n",
            "Epoch 30/50\n",
            "819/819 [==============================] - 15s 18ms/step - loss: 8.4471 - mae: 2.2508 - val_loss: 11.3540 - val_mae: 2.6489\n",
            "Epoch 31/50\n",
            "819/819 [==============================] - 15s 18ms/step - loss: 8.2903 - mae: 2.2339 - val_loss: 11.6046 - val_mae: 2.6694\n",
            "Epoch 32/50\n",
            "819/819 [==============================] - 15s 18ms/step - loss: 8.2469 - mae: 2.2261 - val_loss: 11.2413 - val_mae: 2.6303\n",
            "Epoch 33/50\n",
            "819/819 [==============================] - 15s 18ms/step - loss: 8.1870 - mae: 2.2144 - val_loss: 11.5340 - val_mae: 2.6596\n",
            "Epoch 34/50\n",
            "819/819 [==============================] - 16s 19ms/step - loss: 8.0745 - mae: 2.2018 - val_loss: 11.4612 - val_mae: 2.6615\n",
            "Epoch 35/50\n",
            "819/819 [==============================] - 15s 18ms/step - loss: 8.0647 - mae: 2.1971 - val_loss: 11.7437 - val_mae: 2.6923\n",
            "Epoch 36/50\n",
            "819/819 [==============================] - 15s 19ms/step - loss: 7.9914 - mae: 2.1889 - val_loss: 12.0667 - val_mae: 2.7215\n",
            "Epoch 37/50\n",
            "819/819 [==============================] - 16s 19ms/step - loss: 8.0160 - mae: 2.1917 - val_loss: 11.3949 - val_mae: 2.6384\n",
            "Epoch 38/50\n",
            "819/819 [==============================] - 15s 19ms/step - loss: 7.9060 - mae: 2.1770 - val_loss: 11.1587 - val_mae: 2.6152\n",
            "Epoch 39/50\n",
            "819/819 [==============================] - 15s 18ms/step - loss: 7.8514 - mae: 2.1708 - val_loss: 11.8725 - val_mae: 2.7019\n",
            "Epoch 40/50\n",
            "819/819 [==============================] - 16s 19ms/step - loss: 7.7875 - mae: 2.1616 - val_loss: 11.6716 - val_mae: 2.6688\n",
            "Epoch 41/50\n",
            "819/819 [==============================] - 15s 18ms/step - loss: 7.6848 - mae: 2.1478 - val_loss: 11.7445 - val_mae: 2.6733\n",
            "Epoch 42/50\n",
            "819/819 [==============================] - 15s 19ms/step - loss: 7.7183 - mae: 2.1510 - val_loss: 11.3980 - val_mae: 2.6499\n",
            "Epoch 43/50\n",
            "819/819 [==============================] - 15s 19ms/step - loss: 7.7207 - mae: 2.1510 - val_loss: 11.5768 - val_mae: 2.6663\n",
            "Epoch 44/50\n",
            "819/819 [==============================] - 15s 18ms/step - loss: 7.6223 - mae: 2.1346 - val_loss: 11.5386 - val_mae: 2.6669\n",
            "Epoch 45/50\n",
            "819/819 [==============================] - 15s 18ms/step - loss: 7.5538 - mae: 2.1255 - val_loss: 11.3607 - val_mae: 2.6299\n",
            "Epoch 46/50\n",
            "819/819 [==============================] - 15s 18ms/step - loss: 7.5608 - mae: 2.1255 - val_loss: 11.7910 - val_mae: 2.6855\n",
            "Epoch 47/50\n",
            "819/819 [==============================] - 15s 18ms/step - loss: 7.4900 - mae: 2.1152 - val_loss: 11.9744 - val_mae: 2.7175\n",
            "Epoch 48/50\n",
            "819/819 [==============================] - 15s 18ms/step - loss: 7.5101 - mae: 2.1222 - val_loss: 11.7155 - val_mae: 2.6989\n",
            "Epoch 49/50\n",
            "819/819 [==============================] - 15s 18ms/step - loss: 7.5093 - mae: 2.1166 - val_loss: 11.3403 - val_mae: 2.6489\n",
            "Epoch 50/50\n",
            "819/819 [==============================] - 15s 18ms/step - loss: 7.4202 - mae: 2.1056 - val_loss: 11.6011 - val_mae: 2.6529\n"
          ]
        }
      ],
      "source": [
        "inputs = keras.Input(shape=(sequence_length, raw_data.shape[-1]))\n",
        "# 훈련 속도를 놓이기 위해 순환 드롭아웃을 제외합니다.\n",
        "#x = layers.LSTM(32, recurrent_dropout=0.25)(inputs)\n",
        "x = layers.LSTM(32)(inputs)\n",
        "x = layers.Dropout(0.5)(x)\n",
        "outputs = layers.Dense(1)(x)\n",
        "model = keras.Model(inputs, outputs)\n",
        "\n",
        "callbacks = [\n",
        "    keras.callbacks.ModelCheckpoint(\"jena_lstm_dropout.keras\",\n",
        "                                    save_best_only=True)\n",
        "]\n",
        "model.compile(optimizer=\"rmsprop\", loss=\"mse\", metrics=[\"mae\"])\n",
        "history = model.fit(train_dataset,\n",
        "                    epochs=50,\n",
        "                    validation_data=val_dataset,\n",
        "                    callbacks=callbacks)"
      ]
    },
    {
      "cell_type": "code",
      "execution_count": null,
      "metadata": {
        "execution": {
          "iopub.execute_input": "2022-05-20T15:04:54.372845Z",
          "iopub.status.busy": "2022-05-20T15:04:54.372302Z",
          "iopub.status.idle": "2022-05-20T15:04:54.500136Z",
          "shell.execute_reply": "2022-05-20T15:04:54.499227Z"
        },
        "id": "TUqqYeRgjbci",
        "outputId": "34e7b633-87dd-4a5f-dc94-129981414e3f",
        "colab": {
          "base_uri": "https://localhost:8080/",
          "height": 281
        }
      },
      "outputs": [
        {
          "output_type": "display_data",
          "data": {
            "text/plain": [
              "<Figure size 432x288 with 1 Axes>"
            ],
            "image/png": "[encoded data removed]"
          },
          "metadata": {
            "needs_background": "light"
          }
        }
      ],
      "source": [
        "loss = history.history[\"mae\"]\n",
        "val_loss = history.history[\"val_mae\"]\n",
        "epochs = range(1, len(loss) + 1)\n",
        "plt.figure()\n",
        "plt.plot(epochs, loss, \"bo\", label=\"Training MAE\")\n",
        "plt.plot(epochs, val_loss, \"b\", label=\"Validation MAE\")\n",
        "plt.title(\"Training and validation MAE\")\n",
        "plt.legend()\n",
        "plt.show()"
      ]
    },
    {
      "cell_type": "code",
      "execution_count": null,
      "metadata": {
        "execution": {
          "iopub.execute_input": "2022-05-20T15:04:54.505555Z",
          "iopub.status.busy": "2022-05-20T15:04:54.504713Z",
          "iopub.status.idle": "2022-05-20T15:04:57.937020Z",
          "shell.execute_reply": "2022-05-20T15:04:57.935916Z"
        },
        "id": "u_-Jap5vjbcj",
        "outputId": "1551c085-1a4a-4b69-dce5-4c421ea76560",
        "colab": {
          "base_uri": "https://localhost:8080/"
        }
      },
      "outputs": [
        {
          "output_type": "stream",
          "name": "stderr",
          "text": [
            "WARNING:tensorflow:Layer lstm_3 will not use cuDNN kernels since it doesn't meet the criteria. It will use a generic GPU kernel as fallback when running on GPU.\n"
          ]
        }
      ],
      "source": [
        "inputs = keras.Input(shape=(sequence_length, num_features))\n",
        "x = layers.LSTM(32, recurrent_dropout=0.2, unroll=True)(inputs)"
      ]
    },
    {
      "cell_type": "markdown",
      "metadata": {
        "id": "dIAEo0Ttjbcj"
      },
      "source": [
        "### 스태킹 순환 층"
      ]
    },
    {
      "cell_type": "markdown",
      "metadata": {
        "id": "9AfaRKy2jbcj"
      },
      "source": [
        "**드롭아웃 규제와 스태킹을 적용한 GRU 모델을 훈련하고 평가하기**"
      ]
    },
    {
      "cell_type": "code",
      "execution_count": null,
      "metadata": {
        "execution": {
          "iopub.execute_input": "2022-05-20T15:04:57.941005Z",
          "iopub.status.busy": "2022-05-20T15:04:57.940685Z",
          "iopub.status.idle": "2022-05-20T17:21:17.499207Z",
          "shell.execute_reply": "2022-05-20T17:21:17.498103Z"
        },
        "id": "-v7IqHRsjbcj",
        "outputId": "3050b269-ee5a-42c3-e3fc-409eb4c7ae01",
        "colab": {
          "base_uri": "https://localhost:8080/"
        }
      },
      "outputs": [
        {
          "output_type": "stream",
          "name": "stdout",
          "text": [
            "Epoch 1/50\n",
            "819/819 [==============================] - 23s 24ms/step - loss: 23.8203 - mae: 3.6085 - val_loss: 9.1113 - val_mae: 2.3265\n",
            "Epoch 2/50\n",
            "819/819 [==============================] - 19s 24ms/step - loss: 13.4428 - mae: 2.8387 - val_loss: 8.9302 - val_mae: 2.3205\n",
            "Epoch 3/50\n",
            "819/819 [==============================] - 20s 24ms/step - loss: 12.4980 - mae: 2.7414 - val_loss: 9.3066 - val_mae: 2.3674\n",
            "Epoch 4/50\n",
            "819/819 [==============================] - 20s 24ms/step - loss: 11.7165 - mae: 2.6547 - val_loss: 9.7335 - val_mae: 2.4234\n",
            "Epoch 5/50\n",
            "819/819 [==============================] - 21s 25ms/step - loss: 11.0335 - mae: 2.5730 - val_loss: 9.1506 - val_mae: 2.3421\n",
            "Epoch 6/50\n",
            "819/819 [==============================] - 20s 25ms/step - loss: 10.4060 - mae: 2.5011 - val_loss: 10.8818 - val_mae: 2.5821\n",
            "Epoch 7/50\n",
            "819/819 [==============================] - 20s 25ms/step - loss: 9.7572 - mae: 2.4213 - val_loss: 10.0641 - val_mae: 2.4677\n",
            "Epoch 8/50\n",
            "819/819 [==============================] - 20s 25ms/step - loss: 9.2202 - mae: 2.3523 - val_loss: 10.0242 - val_mae: 2.4493\n",
            "Epoch 9/50\n",
            "819/819 [==============================] - 20s 25ms/step - loss: 8.6846 - mae: 2.2791 - val_loss: 10.9915 - val_mae: 2.5693\n",
            "Epoch 10/50\n",
            "819/819 [==============================] - 20s 25ms/step - loss: 8.2045 - mae: 2.2138 - val_loss: 10.7338 - val_mae: 2.5448\n",
            "Epoch 11/50\n",
            "819/819 [==============================] - 20s 25ms/step - loss: 7.7263 - mae: 2.1487 - val_loss: 11.7899 - val_mae: 2.6686\n",
            "Epoch 12/50\n",
            "819/819 [==============================] - 20s 25ms/step - loss: 7.3051 - mae: 2.0888 - val_loss: 10.9794 - val_mae: 2.5575\n",
            "Epoch 13/50\n",
            "819/819 [==============================] - 20s 25ms/step - loss: 6.9801 - mae: 2.0386 - val_loss: 11.7308 - val_mae: 2.6494\n",
            "Epoch 14/50\n",
            "819/819 [==============================] - 20s 25ms/step - loss: 6.7072 - mae: 1.9937 - val_loss: 12.3358 - val_mae: 2.7208\n",
            "Epoch 15/50\n",
            "819/819 [==============================] - 20s 25ms/step - loss: 6.4467 - mae: 1.9533 - val_loss: 12.6775 - val_mae: 2.7423\n",
            "Epoch 16/50\n",
            "819/819 [==============================] - 20s 25ms/step - loss: 6.2607 - mae: 1.9220 - val_loss: 12.3900 - val_mae: 2.7246\n",
            "Epoch 17/50\n",
            "819/819 [==============================] - 20s 25ms/step - loss: 6.1198 - mae: 1.8976 - val_loss: 12.8926 - val_mae: 2.7709\n",
            "Epoch 18/50\n",
            "819/819 [==============================] - 20s 25ms/step - loss: 5.9531 - mae: 1.8747 - val_loss: 12.8124 - val_mae: 2.7678\n",
            "Epoch 19/50\n",
            "819/819 [==============================] - 20s 24ms/step - loss: 5.8125 - mae: 1.8464 - val_loss: 12.6254 - val_mae: 2.7310\n",
            "Epoch 20/50\n",
            "819/819 [==============================] - 20s 25ms/step - loss: 5.6929 - mae: 1.8291 - val_loss: 13.1190 - val_mae: 2.7949\n",
            "Epoch 21/50\n",
            "819/819 [==============================] - 20s 25ms/step - loss: 5.5364 - mae: 1.8033 - val_loss: 13.0416 - val_mae: 2.7760\n",
            "Epoch 22/50\n",
            "819/819 [==============================] - 21s 25ms/step - loss: 5.4661 - mae: 1.7903 - val_loss: 12.9257 - val_mae: 2.7873\n",
            "Epoch 23/50\n",
            "819/819 [==============================] - 21s 25ms/step - loss: 5.3606 - mae: 1.7717 - val_loss: 13.1139 - val_mae: 2.8072\n",
            "Epoch 24/50\n",
            "819/819 [==============================] - 20s 25ms/step - loss: 5.2825 - mae: 1.7582 - val_loss: 13.0957 - val_mae: 2.7797\n",
            "Epoch 25/50\n",
            "819/819 [==============================] - 20s 25ms/step - loss: 5.2180 - mae: 1.7452 - val_loss: 13.5254 - val_mae: 2.8283\n",
            "Epoch 26/50\n",
            "819/819 [==============================] - 20s 25ms/step - loss: 5.1391 - mae: 1.7301 - val_loss: 13.2821 - val_mae: 2.8258\n",
            "Epoch 27/50\n",
            "819/819 [==============================] - 20s 24ms/step - loss: 5.1092 - mae: 1.7237 - val_loss: 13.6206 - val_mae: 2.8514\n",
            "Epoch 28/50\n",
            "819/819 [==============================] - 20s 25ms/step - loss: 5.0449 - mae: 1.7138 - val_loss: 13.4178 - val_mae: 2.8327\n",
            "Epoch 29/50\n",
            "819/819 [==============================] - 20s 25ms/step - loss: 5.0141 - mae: 1.7055 - val_loss: 13.5538 - val_mae: 2.8488\n",
            "Epoch 30/50\n",
            "819/819 [==============================] - 20s 25ms/step - loss: 4.9340 - mae: 1.6908 - val_loss: 13.9373 - val_mae: 2.8897\n",
            "Epoch 31/50\n",
            "819/819 [==============================] - 20s 25ms/step - loss: 4.8808 - mae: 1.6823 - val_loss: 13.5699 - val_mae: 2.8522\n",
            "Epoch 32/50\n",
            "819/819 [==============================] - 20s 25ms/step - loss: 4.8787 - mae: 1.6787 - val_loss: 13.4075 - val_mae: 2.8316\n",
            "Epoch 33/50\n",
            "819/819 [==============================] - 20s 25ms/step - loss: 4.7971 - mae: 1.6658 - val_loss: 13.5544 - val_mae: 2.8400\n",
            "Epoch 34/50\n",
            "819/819 [==============================] - 20s 24ms/step - loss: 4.7912 - mae: 1.6637 - val_loss: 13.2974 - val_mae: 2.8338\n",
            "Epoch 35/50\n",
            "819/819 [==============================] - 20s 25ms/step - loss: 4.7012 - mae: 1.6478 - val_loss: 13.4067 - val_mae: 2.8359\n",
            "Epoch 36/50\n",
            "819/819 [==============================] - 20s 25ms/step - loss: 4.6930 - mae: 1.6452 - val_loss: 13.5607 - val_mae: 2.8645\n",
            "Epoch 37/50\n",
            "819/819 [==============================] - 21s 26ms/step - loss: 4.6691 - mae: 1.6411 - val_loss: 13.6249 - val_mae: 2.8655\n",
            "Epoch 38/50\n",
            "819/819 [==============================] - 20s 25ms/step - loss: 4.6260 - mae: 1.6326 - val_loss: 13.1008 - val_mae: 2.7956\n",
            "Epoch 39/50\n",
            "819/819 [==============================] - 20s 25ms/step - loss: 4.6349 - mae: 1.6344 - val_loss: 13.4788 - val_mae: 2.8514\n",
            "Epoch 40/50\n",
            "819/819 [==============================] - 21s 26ms/step - loss: 4.5712 - mae: 1.6207 - val_loss: 13.2992 - val_mae: 2.8255\n",
            "Epoch 41/50\n",
            "819/819 [==============================] - 20s 25ms/step - loss: 4.5403 - mae: 1.6156 - val_loss: 13.5922 - val_mae: 2.8693\n",
            "Epoch 42/50\n",
            "819/819 [==============================] - 20s 25ms/step - loss: 4.5403 - mae: 1.6111 - val_loss: 13.3656 - val_mae: 2.8405\n",
            "Epoch 43/50\n",
            "819/819 [==============================] - 20s 25ms/step - loss: 4.4899 - mae: 1.6045 - val_loss: 14.5088 - val_mae: 2.9673\n",
            "Epoch 44/50\n",
            "819/819 [==============================] - 20s 25ms/step - loss: 4.4676 - mae: 1.5990 - val_loss: 14.2606 - val_mae: 2.9232\n",
            "Epoch 45/50\n",
            "819/819 [==============================] - 20s 25ms/step - loss: 4.4431 - mae: 1.5939 - val_loss: 13.8194 - val_mae: 2.8924\n",
            "Epoch 46/50\n",
            "819/819 [==============================] - 20s 25ms/step - loss: 4.4127 - mae: 1.5879 - val_loss: 13.2872 - val_mae: 2.8483\n",
            "Epoch 47/50\n",
            "819/819 [==============================] - 20s 25ms/step - loss: 4.3908 - mae: 1.5845 - val_loss: 14.0894 - val_mae: 2.9294\n",
            "Epoch 48/50\n",
            "819/819 [==============================] - 20s 25ms/step - loss: 4.3258 - mae: 1.5730 - val_loss: 13.1913 - val_mae: 2.8210\n",
            "Epoch 49/50\n",
            "819/819 [==============================] - 20s 25ms/step - loss: 4.3674 - mae: 1.5773 - val_loss: 13.1150 - val_mae: 2.8246\n",
            "Epoch 50/50\n",
            "819/819 [==============================] - 20s 25ms/step - loss: 4.3520 - mae: 1.5743 - val_loss: 13.6808 - val_mae: 2.8795\n",
            "405/405 [==============================] - 6s 12ms/step - loss: 10.0774 - mae: 2.4949\n",
            "테스트 MAE: 2.49\n"
          ]
        }
      ],
      "source": [
        "inputs = keras.Input(shape=(sequence_length, raw_data.shape[-1]))\n",
        "# 훈련 속도를 놓이기 위해 순환 드롭아웃을 제외합니다.\n",
        "# x = layers.GRU(32, recurrent_dropout=0.5, return_sequences=True)(inputs)\n",
        "# x = layers.GRU(32, recurrent_dropout=0.5)(x)\n",
        "x = layers.GRU(32, return_sequences=True)(inputs)\n",
        "x = layers.GRU(32)(x)\n",
        "x = layers.Dropout(0.5)(x)\n",
        "outputs = layers.Dense(1)(x)\n",
        "model = keras.Model(inputs, outputs)\n",
        "\n",
        "callbacks = [\n",
        "    keras.callbacks.ModelCheckpoint(\"jena_stacked_gru_dropout.keras\",\n",
        "                                    save_best_only=True)\n",
        "]\n",
        "model.compile(optimizer=\"rmsprop\", loss=\"mse\", metrics=[\"mae\"])\n",
        "history = model.fit(train_dataset,\n",
        "                    epochs=50,\n",
        "                    validation_data=val_dataset,\n",
        "                    callbacks=callbacks)\n",
        "model = keras.models.load_model(\"jena_stacked_gru_dropout.keras\")\n",
        "print(f\"테스트 MAE: {model.evaluate(test_dataset)[1]:.2f}\")"
      ]
    },
    {
      "cell_type": "code",
      "execution_count": null,
      "metadata": {
        "execution": {
          "iopub.execute_input": "2022-05-20T17:21:17.502935Z",
          "iopub.status.busy": "2022-05-20T17:21:17.502627Z",
          "iopub.status.idle": "2022-05-20T17:21:17.637424Z",
          "shell.execute_reply": "2022-05-20T17:21:17.636229Z"
        },
        "id": "ajG9EuXxjbck",
        "outputId": "493a965e-f19f-4c44-ffeb-c1668a53d05e",
        "colab": {
          "base_uri": "https://localhost:8080/",
          "height": 281
        }
      },
      "outputs": [
        {
          "output_type": "display_data",
          "data": {
            "text/plain": [
              "<Figure size 432x288 with 1 Axes>"
            ],
            "image/png": "[encoded data removed]"
          },
          "metadata": {
            "needs_background": "light"
          }
        }
      ],
      "source": [
        "loss = history.history[\"mae\"]\n",
        "val_loss = history.history[\"val_mae\"]\n",
        "epochs = range(1, len(loss) + 1)\n",
        "plt.figure()\n",
        "plt.plot(epochs, loss, \"bo\", label=\"Training MAE\")\n",
        "plt.plot(epochs, val_loss, \"b\", label=\"Validation MAE\")\n",
        "plt.title(\"Training and validation MAE\")\n",
        "plt.legend()\n",
        "plt.show()"
      ]
    },
    {
      "cell_type": "markdown",
      "metadata": {
        "id": "Yj_01R2Cjbck"
      },
      "source": [
        "### 양방향 RNN 사용하기"
      ]
    },
    {
      "cell_type": "markdown",
      "metadata": {
        "id": "HfYzAJbqjbck"
      },
      "source": [
        "시퀀스를 거꾸로 뒤집어 LSTM 모델 훈련하기 (책에는 없음)"
      ]
    },
    {
      "cell_type": "code",
      "execution_count": null,
      "metadata": {
        "execution": {
          "iopub.execute_input": "2022-05-20T17:21:17.641176Z",
          "iopub.status.busy": "2022-05-20T17:21:17.640902Z",
          "iopub.status.idle": "2022-05-20T17:21:17.646145Z",
          "shell.execute_reply": "2022-05-20T17:21:17.645090Z"
        },
        "id": "P2Ns9cJajbck"
      },
      "outputs": [],
      "source": [
        "def train_generator():\n",
        "    while True:\n",
        "        for samples, targets in train_dataset:\n",
        "            yield samples[:, ::-1, :], targets\n",
        "\n",
        "def val_generator():\n",
        "    while True:\n",
        "        for samples, targets in val_dataset:\n",
        "            yield samples[:, ::-1, :], targets\n",
        "        \n",
        "train_gen = train_generator()\n",
        "val_gen = val_generator()"
      ]
    },
    {
      "cell_type": "code",
      "execution_count": null,
      "metadata": {
        "execution": {
          "iopub.execute_input": "2022-05-20T17:21:17.649630Z",
          "iopub.status.busy": "2022-05-20T17:21:17.649357Z",
          "iopub.status.idle": "2022-05-20T17:38:03.455221Z",
          "shell.execute_reply": "2022-05-20T17:38:03.454271Z"
        },
        "id": "4Yd7xpW3jbck",
        "outputId": "b882ee53-6a78-4e10-ea5e-6b60477a5d0f",
        "colab": {
          "base_uri": "https://localhost:8080/"
        }
      },
      "outputs": [
        {
          "output_type": "stream",
          "name": "stdout",
          "text": [
            "Epoch 1/10\n",
            "819/819 [==============================] - 17s 19ms/step - loss: 34.4291 - mae: 4.5078 - val_loss: 18.8545 - val_mae: 3.4016\n",
            "Epoch 2/10\n",
            "819/819 [==============================] - 15s 18ms/step - loss: 22.1811 - mae: 3.6915 - val_loss: 17.3549 - val_mae: 3.2415\n",
            "Epoch 3/10\n",
            "819/819 [==============================] - 15s 18ms/step - loss: 20.1641 - mae: 3.5055 - val_loss: 16.4726 - val_mae: 3.1400\n",
            "Epoch 4/10\n",
            "819/819 [==============================] - 15s 18ms/step - loss: 19.4260 - mae: 3.4325 - val_loss: 15.1944 - val_mae: 3.0632\n",
            "Epoch 5/10\n",
            "819/819 [==============================] - 15s 18ms/step - loss: 16.4530 - mae: 3.1715 - val_loss: 12.5819 - val_mae: 2.7369\n",
            "Epoch 6/10\n",
            "819/819 [==============================] - 15s 18ms/step - loss: 14.9640 - mae: 3.0180 - val_loss: 12.3661 - val_mae: 2.7029\n",
            "Epoch 7/10\n",
            "819/819 [==============================] - 15s 18ms/step - loss: 13.9965 - mae: 2.9188 - val_loss: 13.3859 - val_mae: 2.8222\n",
            "Epoch 8/10\n",
            "819/819 [==============================] - 15s 18ms/step - loss: 13.4201 - mae: 2.8536 - val_loss: 12.0510 - val_mae: 2.6898\n",
            "Epoch 9/10\n",
            "819/819 [==============================] - 15s 19ms/step - loss: 12.8782 - mae: 2.7925 - val_loss: 11.6169 - val_mae: 2.6293\n",
            "Epoch 10/10\n",
            "819/819 [==============================] - 15s 19ms/step - loss: 12.4951 - mae: 2.7453 - val_loss: 11.1915 - val_mae: 2.5769\n"
          ]
        }
      ],
      "source": [
        "inputs = keras.Input(shape=(sequence_length, raw_data.shape[-1]))\n",
        "# 훈련 속도를 놓이기 위해 순환 드롭아웃을 제외합니다.\n",
        "# x = layers.LSTM(32, recurrent_dropout=0.25)(inputs)\n",
        "x = layers.LSTM(32)(inputs)\n",
        "x = layers.Dropout(0.5)(x)\n",
        "outputs = layers.Dense(1)(x)\n",
        "model = keras.Model(inputs, outputs)\n",
        "\n",
        "model.compile(optimizer=\"rmsprop\", loss=\"mse\", metrics=[\"mae\"])\n",
        "history = model.fit(train_gen,\n",
        "                    epochs=10,\n",
        "                    steps_per_epoch=819,\n",
        "                    validation_data=val_gen,\n",
        "                    validation_steps=410)"
      ]
    },
    {
      "cell_type": "code",
      "execution_count": null,
      "metadata": {
        "execution": {
          "iopub.execute_input": "2022-05-20T17:38:03.459157Z",
          "iopub.status.busy": "2022-05-20T17:38:03.458872Z",
          "iopub.status.idle": "2022-05-20T17:38:03.588800Z",
          "shell.execute_reply": "2022-05-20T17:38:03.587843Z"
        },
        "id": "HjBY66fkjbck",
        "outputId": "5a27fe47-f9ed-4d3e-9db5-92931a785f3b",
        "colab": {
          "base_uri": "https://localhost:8080/",
          "height": 281
        }
      },
      "outputs": [
        {
          "output_type": "display_data",
          "data": {
            "text/plain": [
              "<Figure size 432x288 with 1 Axes>"
            ],
            "image/png": "[encoded data removed]"
          },
          "metadata": {
            "needs_background": "light"
          }
        }
      ],
      "source": [
        "loss = history.history[\"mae\"]\n",
        "val_loss = history.history[\"val_mae\"]\n",
        "epochs = range(1, len(loss) + 1)\n",
        "plt.figure()\n",
        "plt.plot(epochs, loss, \"bo\", label=\"Training MAE\")\n",
        "plt.plot(epochs, val_loss, \"b\", label=\"Validation MAE\")\n",
        "plt.title(\"Training and validation MAE\")\n",
        "plt.legend()\n",
        "plt.show()"
      ]
    },
    {
      "cell_type": "markdown",
      "metadata": {
        "id": "9mc9iUIKjbck"
      },
      "source": [
        "**양방향 LSTM 모델 훈련하고 평가하기**"
      ]
    },
    {
      "cell_type": "code",
      "execution_count": null,
      "metadata": {
        "execution": {
          "iopub.execute_input": "2022-05-20T17:38:03.594401Z",
          "iopub.status.busy": "2022-05-20T17:38:03.593387Z",
          "iopub.status.idle": "2022-05-20T17:49:14.410464Z",
          "shell.execute_reply": "2022-05-20T17:49:14.409759Z"
        },
        "id": "eysu8EhMjbcl",
        "outputId": "1183e67f-105e-4d01-ab34-94596f8a25b3",
        "colab": {
          "base_uri": "https://localhost:8080/"
        }
      },
      "outputs": [
        {
          "output_type": "stream",
          "name": "stdout",
          "text": [
            "Epoch 1/10\n",
            "819/819 [==============================] - 25s 27ms/step - loss: 27.5711 - mae: 3.7582 - val_loss: 10.9142 - val_mae: 2.5547\n",
            "Epoch 2/10\n",
            "819/819 [==============================] - 21s 25ms/step - loss: 9.5186 - mae: 2.4085 - val_loss: 10.1476 - val_mae: 2.4799\n",
            "Epoch 3/10\n",
            "819/819 [==============================] - 21s 25ms/step - loss: 8.5681 - mae: 2.2782 - val_loss: 9.8487 - val_mae: 2.4442\n",
            "Epoch 4/10\n",
            "819/819 [==============================] - 21s 25ms/step - loss: 8.0482 - mae: 2.2116 - val_loss: 10.2152 - val_mae: 2.4823\n",
            "Epoch 5/10\n",
            "819/819 [==============================] - 21s 25ms/step - loss: 7.6664 - mae: 2.1611 - val_loss: 10.3464 - val_mae: 2.4819\n",
            "Epoch 6/10\n",
            "819/819 [==============================] - 21s 25ms/step - loss: 7.3586 - mae: 2.1188 - val_loss: 10.7364 - val_mae: 2.5336\n",
            "Epoch 7/10\n",
            "819/819 [==============================] - 21s 25ms/step - loss: 7.1247 - mae: 2.0830 - val_loss: 10.9647 - val_mae: 2.5570\n",
            "Epoch 8/10\n",
            "819/819 [==============================] - 21s 25ms/step - loss: 6.9400 - mae: 2.0525 - val_loss: 10.9305 - val_mae: 2.5544\n",
            "Epoch 9/10\n",
            "819/819 [==============================] - 21s 25ms/step - loss: 6.7492 - mae: 2.0250 - val_loss: 11.5026 - val_mae: 2.6071\n",
            "Epoch 10/10\n",
            "819/819 [==============================] - 21s 25ms/step - loss: 6.5950 - mae: 1.9994 - val_loss: 11.4990 - val_mae: 2.6209\n"
          ]
        }
      ],
      "source": [
        "inputs = keras.Input(shape=(sequence_length, raw_data.shape[-1]))\n",
        "x = layers.Bidirectional(layers.LSTM(16))(inputs)\n",
        "outputs = layers.Dense(1)(x)\n",
        "model = keras.Model(inputs, outputs)\n",
        "\n",
        "model.compile(optimizer=\"rmsprop\", loss=\"mse\", metrics=[\"mae\"])\n",
        "history = model.fit(train_dataset,\n",
        "                    epochs=10,\n",
        "                    validation_data=val_dataset)"
      ]
    },
    {
      "cell_type": "markdown",
      "metadata": {
        "id": "wrkE0wkWjbcl"
      },
      "source": [
        "### 더 나아가서"
      ]
    },
    {
      "cell_type": "markdown",
      "metadata": {
        "id": "fi2t0VRNjbcl"
      },
      "source": [
        "## 요약"
      ]
    }
  ],
  "metadata": {
    "colab": {
      "name": "chapter10_dl-for-timeseries.i",
      "provenance": [],
      "gpuType": "T4"
    },
    "kernelspec": {
      "display_name": "default:Python",
      "language": "python",
      "name": "conda-env-default-py"
    },
    "language_info": {
      "codemirror_mode": {
        "name": "ipython",
        "version": 3
      },
      "file_extension": ".py",
      "mimetype": "text/x-python",
      "name": "python",
      "nbconvert_exporter": "python",
      "pygments_lexer": "ipython3",
      "version": "3.9.10"
    },
    "accelerator": "GPU",
    "gpuClass": "premium"
  },
  "nbformat": 4,
  "nbformat_minor": 0
}