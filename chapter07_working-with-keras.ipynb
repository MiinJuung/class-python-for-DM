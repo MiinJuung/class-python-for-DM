{
  "cells": [
    {
      "cell_type": "markdown",
      "metadata": {
        "id": "NxisYahz78kr"
      },
      "source": [
        "이 노트북은 [케라스 창시자에게 배우는 딥러닝 2판](https://tensorflow.blog/kerasdl2/)의 예제 코드를 담고 있습니다.\n",
        "\n",
        "<table align=\"left\">\n",
        "    <tr>\n",
        "        <td>\n",
        "            <a href=\"https://colab.research.google.com/github/rickiepark/deep-learning-with-python-2nd/blob/main/chapter07_working-with-keras.ipynb\" target=\"_parent\"><img src=\"https://colab.research.google.com/assets/colab-badge.svg\" alt=\"Open In Colab\"/></a>\n",
        "        </td>\n",
        "    </tr>\n",
        "</table>"
      ]
    },
    {
      "cell_type": "markdown",
      "metadata": {
        "id": "VY4awywL78ku"
      },
      "source": [
        "# 케라스 완전 정복"
      ]
    },
    {
      "cell_type": "markdown",
      "metadata": {
        "id": "t4Wk2PEQ78ku"
      },
      "source": [
        "## 다양한 워크플로"
      ]
    },
    {
      "cell_type": "markdown",
      "metadata": {
        "id": "6jYEpECN78kv"
      },
      "source": [
        "## 케라스 모델을 만드는 여러 방법"
      ]
    },
    {
      "cell_type": "markdown",
      "metadata": {
        "id": "WtXfeoJT78kv"
      },
      "source": [
        "### `Sequential` 모델"
      ]
    },
    {
      "cell_type": "markdown",
      "metadata": {
        "id": "kxTAtu8P78kv"
      },
      "source": [
        "**`Sequential` 클래스**"
      ]
    },
    {
      "cell_type": "code",
      "execution_count": 50,
      "metadata": {
        "execution": {
          "iopub.execute_input": "2022-05-21T01:08:17.897692Z",
          "iopub.status.busy": "2022-05-21T01:08:17.897206Z",
          "iopub.status.idle": "2022-05-21T01:08:19.726515Z",
          "shell.execute_reply": "2022-05-21T01:08:19.725363Z"
        },
        "id": "u8zfcw9t78kw"
      },
      "outputs": [],
      "source": [
        "from tensorflow import keras\n",
        "from tensorflow.keras import layers\n",
        "\n",
        "model = keras.Sequential([\n",
        "    layers.Dense(64, activation=\"relu\"),\n",
        "    layers.Dense(10, activation=\"softmax\")\n",
        "])"
      ]
    },
    {
      "cell_type": "markdown",
      "metadata": {
        "id": "grjxGi0O78kx"
      },
      "source": [
        "**점진적으로 `Sequential` 모델 만들기**"
      ]
    },
    {
      "cell_type": "code",
      "execution_count": 51,
      "metadata": {
        "execution": {
          "iopub.execute_input": "2022-05-21T01:08:19.730848Z",
          "iopub.status.busy": "2022-05-21T01:08:19.730300Z",
          "iopub.status.idle": "2022-05-21T01:08:19.741163Z",
          "shell.execute_reply": "2022-05-21T01:08:19.740365Z"
        },
        "id": "GVfAazCs78kx"
      },
      "outputs": [],
      "source": [
        "model = keras.Sequential()\n",
        "model.add(layers.Dense(64, activation=\"relu\"))\n",
        "model.add(layers.Dense(10, activation=\"softmax\"))"
      ]
    },
    {
      "cell_type": "code",
      "source": [
        "model.layers"
      ],
      "metadata": {
        "id": "qwxWAz5R13Fl",
        "outputId": "53a33758-b128-4037-d120-3316ef691320",
        "colab": {
          "base_uri": "https://localhost:8080/"
        }
      },
      "execution_count": 52,
      "outputs": [
        {
          "output_type": "execute_result",
          "data": {
            "text/plain": [
              "[<keras.layers.core.dense.Dense at 0x7f81b0380580>,\n",
              " <keras.layers.core.dense.Dense at 0x7f819ce41d00>]"
            ]
          },
          "metadata": {},
          "execution_count": 52
        }
      ]
    },
    {
      "cell_type": "markdown",
      "source": [
        "**덴스 레이어 두개가 잘 붙어있는 모습을 볼 수 있다.**"
      ],
      "metadata": {
        "id": "QLnULLzY17RR"
      }
    },
    {
      "cell_type": "code",
      "source": [
        "model.weights"
      ],
      "metadata": {
        "id": "LxWx279H3Rmq",
        "outputId": "a8a64395-5819-44f1-adc3-9effabcaef27",
        "colab": {
          "base_uri": "https://localhost:8080/",
          "height": 341
        }
      },
      "execution_count": 53,
      "outputs": [
        {
          "output_type": "error",
          "ename": "ValueError",
          "evalue": "ignored",
          "traceback": [
            "\u001b[0;31m---------------------------------------------------------------------------\u001b[0m",
            "\u001b[0;31mValueError\u001b[0m                                Traceback (most recent call last)",
            "\u001b[0;32m<ipython-input-53-dd9f7a7f3f1d>\u001b[0m in \u001b[0;36m<cell line: 1>\u001b[0;34m()\u001b[0m\n\u001b[0;32m----> 1\u001b[0;31m \u001b[0mmodel\u001b[0m\u001b[0;34m.\u001b[0m\u001b[0mweights\u001b[0m\u001b[0;34m\u001b[0m\u001b[0;34m\u001b[0m\u001b[0m\n\u001b[0m",
            "\u001b[0;32m/usr/local/lib/python3.9/dist-packages/keras/engine/training.py\u001b[0m in \u001b[0;36mweights\u001b[0;34m(self)\u001b[0m\n\u001b[1;32m   3175\u001b[0m           \u001b[0mA\u001b[0m \u001b[0mlist\u001b[0m \u001b[0mof\u001b[0m \u001b[0mvariables\u001b[0m\u001b[0;34m.\u001b[0m\u001b[0;34m\u001b[0m\u001b[0;34m\u001b[0m\u001b[0m\n\u001b[1;32m   3176\u001b[0m         \"\"\"\n\u001b[0;32m-> 3177\u001b[0;31m         \u001b[0;32mreturn\u001b[0m \u001b[0mself\u001b[0m\u001b[0;34m.\u001b[0m\u001b[0m_dedup_weights\u001b[0m\u001b[0;34m(\u001b[0m\u001b[0mself\u001b[0m\u001b[0;34m.\u001b[0m\u001b[0m_undeduplicated_weights\u001b[0m\u001b[0;34m)\u001b[0m\u001b[0;34m\u001b[0m\u001b[0;34m\u001b[0m\u001b[0m\n\u001b[0m\u001b[1;32m   3178\u001b[0m \u001b[0;34m\u001b[0m\u001b[0m\n\u001b[1;32m   3179\u001b[0m     \u001b[0;34m@\u001b[0m\u001b[0mproperty\u001b[0m\u001b[0;34m\u001b[0m\u001b[0;34m\u001b[0m\u001b[0m\n",
            "\u001b[0;32m/usr/local/lib/python3.9/dist-packages/keras/engine/training.py\u001b[0m in \u001b[0;36m_undeduplicated_weights\u001b[0;34m(self)\u001b[0m\n\u001b[1;32m   3180\u001b[0m     \u001b[0;32mdef\u001b[0m \u001b[0m_undeduplicated_weights\u001b[0m\u001b[0;34m(\u001b[0m\u001b[0mself\u001b[0m\u001b[0;34m)\u001b[0m\u001b[0;34m:\u001b[0m\u001b[0;34m\u001b[0m\u001b[0;34m\u001b[0m\u001b[0m\n\u001b[1;32m   3181\u001b[0m         \u001b[0;34m\"\"\"Returns the undeduplicated list of all layer variables/weights.\"\"\"\u001b[0m\u001b[0;34m\u001b[0m\u001b[0;34m\u001b[0m\u001b[0m\n\u001b[0;32m-> 3182\u001b[0;31m         \u001b[0mself\u001b[0m\u001b[0;34m.\u001b[0m\u001b[0m_assert_weights_created\u001b[0m\u001b[0;34m(\u001b[0m\u001b[0;34m)\u001b[0m\u001b[0;34m\u001b[0m\u001b[0;34m\u001b[0m\u001b[0m\n\u001b[0m\u001b[1;32m   3183\u001b[0m         \u001b[0mweights\u001b[0m \u001b[0;34m=\u001b[0m \u001b[0;34m[\u001b[0m\u001b[0;34m]\u001b[0m\u001b[0;34m\u001b[0m\u001b[0;34m\u001b[0m\u001b[0m\n\u001b[1;32m   3184\u001b[0m         \u001b[0;32mfor\u001b[0m \u001b[0mlayer\u001b[0m \u001b[0;32min\u001b[0m \u001b[0mself\u001b[0m\u001b[0;34m.\u001b[0m\u001b[0m_self_tracked_trackables\u001b[0m\u001b[0;34m:\u001b[0m\u001b[0;34m\u001b[0m\u001b[0;34m\u001b[0m\u001b[0m\n",
            "\u001b[0;32m/usr/local/lib/python3.9/dist-packages/keras/engine/sequential.py\u001b[0m in \u001b[0;36m_assert_weights_created\u001b[0;34m(self)\u001b[0m\n\u001b[1;32m    515\u001b[0m         \u001b[0;31m# When the graph has not been initialized, use the Model's\u001b[0m\u001b[0;34m\u001b[0m\u001b[0;34m\u001b[0m\u001b[0m\n\u001b[1;32m    516\u001b[0m         \u001b[0;31m# implementation to to check if the weights has been created.\u001b[0m\u001b[0;34m\u001b[0m\u001b[0;34m\u001b[0m\u001b[0m\n\u001b[0;32m--> 517\u001b[0;31m         \u001b[0msuper\u001b[0m\u001b[0;34m(\u001b[0m\u001b[0mfunctional\u001b[0m\u001b[0;34m.\u001b[0m\u001b[0mFunctional\u001b[0m\u001b[0;34m,\u001b[0m \u001b[0mself\u001b[0m\u001b[0;34m)\u001b[0m\u001b[0;34m.\u001b[0m\u001b[0m_assert_weights_created\u001b[0m\u001b[0;34m(\u001b[0m\u001b[0;34m)\u001b[0m\u001b[0;34m\u001b[0m\u001b[0;34m\u001b[0m\u001b[0m\n\u001b[0m\u001b[1;32m    518\u001b[0m \u001b[0;34m\u001b[0m\u001b[0m\n\u001b[1;32m    519\u001b[0m \u001b[0;34m\u001b[0m\u001b[0m\n",
            "\u001b[0;32m/usr/local/lib/python3.9/dist-packages/keras/engine/training.py\u001b[0m in \u001b[0;36m_assert_weights_created\u001b[0;34m(self)\u001b[0m\n\u001b[1;32m   3538\u001b[0m             \u001b[0;31m# Also make sure to exclude Model class itself which has build()\u001b[0m\u001b[0;34m\u001b[0m\u001b[0;34m\u001b[0m\u001b[0m\n\u001b[1;32m   3539\u001b[0m             \u001b[0;31m# defined.\u001b[0m\u001b[0;34m\u001b[0m\u001b[0;34m\u001b[0m\u001b[0m\n\u001b[0;32m-> 3540\u001b[0;31m             raise ValueError(\n\u001b[0m\u001b[1;32m   3541\u001b[0m                 \u001b[0;34mf\"Weights for model '{self.name}' have not yet been \"\u001b[0m\u001b[0;34m\u001b[0m\u001b[0;34m\u001b[0m\u001b[0m\n\u001b[1;32m   3542\u001b[0m                 \u001b[0;34m\"created. \"\u001b[0m\u001b[0;34m\u001b[0m\u001b[0;34m\u001b[0m\u001b[0m\n",
            "\u001b[0;31mValueError\u001b[0m: Weights for model 'sequential_7' have not yet been created. Weights are created when the model is first called on inputs or `build()` is called with an `input_shape`."
          ]
        }
      ]
    },
    {
      "cell_type": "code",
      "source": [
        "dir(model)"
      ],
      "metadata": {
        "id": "iqzfpQ6N2C2v"
      },
      "execution_count": null,
      "outputs": []
    },
    {
      "cell_type": "markdown",
      "metadata": {
        "id": "QOgNAGz378ky"
      },
      "source": [
        "**가중치를 만들기 위해 모델을 호출합니다**"
      ]
    },
    {
      "cell_type": "markdown",
      "source": [
        "* none은 batch사이즈인데 저절로 정해지므로 none으로 설정해도 괜찮다. 하지만 뒷 차원은 initial weight를 위해 필요하다. *"
      ],
      "metadata": {
        "id": "UumS440J5GTb"
      }
    },
    {
      "cell_type": "code",
      "execution_count": null,
      "metadata": {
        "execution": {
          "iopub.execute_input": "2022-05-21T01:08:19.744823Z",
          "iopub.status.busy": "2022-05-21T01:08:19.744347Z",
          "iopub.status.idle": "2022-05-21T01:08:19.786028Z",
          "shell.execute_reply": "2022-05-21T01:08:19.785145Z"
        },
        "id": "a40W6Kju78ky"
      },
      "outputs": [],
      "source": [
        "model.build(input_shape=(None, 3))\n",
        "model.weights"
      ]
    },
    {
      "cell_type": "markdown",
      "metadata": {
        "id": "R8DWg-rN78kz"
      },
      "source": [
        "**`summary` 메서드**"
      ]
    },
    {
      "cell_type": "code",
      "execution_count": null,
      "metadata": {
        "execution": {
          "iopub.execute_input": "2022-05-21T01:08:19.789939Z",
          "iopub.status.busy": "2022-05-21T01:08:19.789627Z",
          "iopub.status.idle": "2022-05-21T01:08:19.806174Z",
          "shell.execute_reply": "2022-05-21T01:08:19.805117Z"
        },
        "id": "oXepOC-B78kz"
      },
      "outputs": [],
      "source": [
        "model.summary()"
      ]
    },
    {
      "cell_type": "markdown",
      "metadata": {
        "id": "3GC_UjQq78kz"
      },
      "source": [
        "**`name` 매개변수로 모델과 층에 이름 지정하기**"
      ]
    },
    {
      "cell_type": "code",
      "execution_count": null,
      "metadata": {
        "execution": {
          "iopub.execute_input": "2022-05-21T01:08:19.811767Z",
          "iopub.status.busy": "2022-05-21T01:08:19.811469Z",
          "iopub.status.idle": "2022-05-21T01:08:19.847884Z",
          "shell.execute_reply": "2022-05-21T01:08:19.846799Z"
        },
        "id": "SMJzN44D78kz"
      },
      "outputs": [],
      "source": [
        "model = keras.Sequential(name=\"my_example_model\")\n",
        "model.add(layers.Dense(64, activation=\"relu\", name=\"my_first_layer\"))\n",
        "model.add(layers.Dense(10, activation=\"softmax\", name=\"my_last_layer\"))\n",
        "model.build((None, 3))\n",
        "model.summary()"
      ]
    },
    {
      "cell_type": "markdown",
      "metadata": {
        "id": "3oA3a8vn78k0"
      },
      "source": [
        "**모델의 입력 크기를 미리 지정하기**"
      ]
    },
    {
      "cell_type": "code",
      "execution_count": null,
      "metadata": {
        "execution": {
          "iopub.execute_input": "2022-05-21T01:08:19.852490Z",
          "iopub.status.busy": "2022-05-21T01:08:19.852180Z",
          "iopub.status.idle": "2022-05-21T01:08:19.868234Z",
          "shell.execute_reply": "2022-05-21T01:08:19.867383Z"
        },
        "id": "wPpUDYLm78k0"
      },
      "outputs": [],
      "source": [
        "model = keras.Sequential()\n",
        "model.add(keras.Input(shape=(3,)))\n",
        "model.add(layers.Dense(64, activation=\"relu\"))"
      ]
    },
    {
      "cell_type": "code",
      "execution_count": null,
      "metadata": {
        "execution": {
          "iopub.execute_input": "2022-05-21T01:08:19.872451Z",
          "iopub.status.busy": "2022-05-21T01:08:19.871742Z",
          "iopub.status.idle": "2022-05-21T01:08:19.883576Z",
          "shell.execute_reply": "2022-05-21T01:08:19.882292Z"
        },
        "id": "0MAZpaNq78k0"
      },
      "outputs": [],
      "source": [
        "model.summary()"
      ]
    },
    {
      "cell_type": "markdown",
      "source": [
        "*Layer를 확인하며 사용하고 싶을때는 model.add -> summary하며 확인 가능하다.*"
      ],
      "metadata": {
        "id": "fPcyCFLa3uxm"
      }
    },
    {
      "cell_type": "code",
      "execution_count": null,
      "metadata": {
        "execution": {
          "iopub.execute_input": "2022-05-21T01:08:19.889960Z",
          "iopub.status.busy": "2022-05-21T01:08:19.889417Z",
          "iopub.status.idle": "2022-05-21T01:08:19.913107Z",
          "shell.execute_reply": "2022-05-21T01:08:19.912060Z"
        },
        "id": "9IdbjaKl78k0"
      },
      "outputs": [],
      "source": [
        "model.add(layers.Dense(10, activation=\"softmax\"))\n",
        "model.summary()"
      ]
    },
    {
      "cell_type": "markdown",
      "metadata": {
        "id": "TRNyc9ln78k1"
      },
      "source": [
        "### 함수형 API"
      ]
    },
    {
      "cell_type": "markdown",
      "metadata": {
        "id": "AWnXwtia78k1"
      },
      "source": [
        "#### 간단한 예제"
      ]
    },
    {
      "cell_type": "markdown",
      "metadata": {
        "id": "KhjA_S9578k1"
      },
      "source": [
        "**두 개의 `Dense` 층을 가진 간단한 함수형 모델**"
      ]
    },
    {
      "cell_type": "code",
      "execution_count": null,
      "metadata": {
        "execution": {
          "iopub.execute_input": "2022-05-21T01:08:19.916892Z",
          "iopub.status.busy": "2022-05-21T01:08:19.916573Z",
          "iopub.status.idle": "2022-05-21T01:08:19.941043Z",
          "shell.execute_reply": "2022-05-21T01:08:19.940086Z"
        },
        "id": "F6eFkqg-78k1"
      },
      "outputs": [],
      "source": [
        "inputs = keras.Input(shape=(3,), name=\"my_input\")\n",
        "features = layers.Dense(64, activation=\"relu\")(inputs)\n",
        "outputs = layers.Dense(10, activation=\"softmax\")(features)\n",
        "model = keras.Model(inputs=inputs, outputs=outputs)"
      ]
    },
    {
      "cell_type": "code",
      "execution_count": null,
      "metadata": {
        "execution": {
          "iopub.execute_input": "2022-05-21T01:08:19.945177Z",
          "iopub.status.busy": "2022-05-21T01:08:19.944430Z",
          "iopub.status.idle": "2022-05-21T01:08:19.951170Z",
          "shell.execute_reply": "2022-05-21T01:08:19.950322Z"
        },
        "id": "JIE2BrCq78k1"
      },
      "outputs": [],
      "source": [
        "inputs = keras.Input(shape=(3,), name=\"my_input\")"
      ]
    },
    {
      "cell_type": "code",
      "execution_count": null,
      "metadata": {
        "execution": {
          "iopub.execute_input": "2022-05-21T01:08:19.954467Z",
          "iopub.status.busy": "2022-05-21T01:08:19.954164Z",
          "iopub.status.idle": "2022-05-21T01:08:19.961972Z",
          "shell.execute_reply": "2022-05-21T01:08:19.961190Z"
        },
        "id": "KXO6K8Kt78k1"
      },
      "outputs": [],
      "source": [
        "inputs.shape"
      ]
    },
    {
      "cell_type": "code",
      "execution_count": null,
      "metadata": {
        "execution": {
          "iopub.execute_input": "2022-05-21T01:08:19.965410Z",
          "iopub.status.busy": "2022-05-21T01:08:19.964858Z",
          "iopub.status.idle": "2022-05-21T01:08:19.970233Z",
          "shell.execute_reply": "2022-05-21T01:08:19.969354Z"
        },
        "id": "UgsAJkwg78k2"
      },
      "outputs": [],
      "source": [
        "inputs.dtype"
      ]
    },
    {
      "cell_type": "code",
      "execution_count": null,
      "metadata": {
        "execution": {
          "iopub.execute_input": "2022-05-21T01:08:19.973759Z",
          "iopub.status.busy": "2022-05-21T01:08:19.973498Z",
          "iopub.status.idle": "2022-05-21T01:08:19.987483Z",
          "shell.execute_reply": "2022-05-21T01:08:19.986668Z"
        },
        "id": "EkRhAXOF78k2"
      },
      "outputs": [],
      "source": [
        "features = layers.Dense(64, activation=\"relu\")(inputs)"
      ]
    },
    {
      "cell_type": "code",
      "execution_count": null,
      "metadata": {
        "execution": {
          "iopub.execute_input": "2022-05-21T01:08:19.991090Z",
          "iopub.status.busy": "2022-05-21T01:08:19.990824Z",
          "iopub.status.idle": "2022-05-21T01:08:19.995333Z",
          "shell.execute_reply": "2022-05-21T01:08:19.994646Z"
        },
        "id": "X4RdmJTP78k2"
      },
      "outputs": [],
      "source": [
        "features.shape"
      ]
    },
    {
      "cell_type": "code",
      "execution_count": null,
      "metadata": {
        "execution": {
          "iopub.execute_input": "2022-05-21T01:08:19.998902Z",
          "iopub.status.busy": "2022-05-21T01:08:19.998640Z",
          "iopub.status.idle": "2022-05-21T01:08:20.016768Z",
          "shell.execute_reply": "2022-05-21T01:08:20.015839Z"
        },
        "id": "rh8RHX9j78k2"
      },
      "outputs": [],
      "source": [
        "outputs = layers.Dense(10, activation=\"softmax\")(features)\n",
        "model = keras.Model(inputs=inputs, outputs=outputs)"
      ]
    },
    {
      "cell_type": "code",
      "execution_count": null,
      "metadata": {
        "execution": {
          "iopub.execute_input": "2022-05-21T01:08:20.020784Z",
          "iopub.status.busy": "2022-05-21T01:08:20.020124Z",
          "iopub.status.idle": "2022-05-21T01:08:20.038890Z",
          "shell.execute_reply": "2022-05-21T01:08:20.037823Z"
        },
        "id": "VyQr2vd278k2"
      },
      "outputs": [],
      "source": [
        "model.summary()"
      ]
    },
    {
      "cell_type": "markdown",
      "metadata": {
        "id": "q0qXz4WL78k3"
      },
      "source": [
        "#### 다중 입력, 다중 출력 모델"
      ]
    },
    {
      "cell_type": "markdown",
      "metadata": {
        "id": "V_8kpYZ678k3"
      },
      "source": [
        "**다중 입력, 다중 출력 함수형 모델**"
      ]
    },
    {
      "cell_type": "code",
      "execution_count": null,
      "metadata": {
        "execution": {
          "iopub.execute_input": "2022-05-21T01:08:20.043902Z",
          "iopub.status.busy": "2022-05-21T01:08:20.043412Z",
          "iopub.status.idle": "2022-05-21T01:08:20.094484Z",
          "shell.execute_reply": "2022-05-21T01:08:20.093538Z"
        },
        "id": "LzY8WkDJ78k3"
      },
      "outputs": [],
      "source": [
        "vocabulary_size = 10000\n",
        "num_tags = 100\n",
        "num_departments = 4\n",
        "\n",
        "title = keras.Input(shape=(vocabulary_size,), name=\"title\")\n",
        "text_body = keras.Input(shape=(vocabulary_size,), name=\"text_body\")\n",
        "tags = keras.Input(shape=(num_tags,), name=\"tags\")\n",
        "\n",
        "features = layers.Concatenate()([title, text_body, tags])\n",
        "features = layers.Dense(64, activation=\"relu\")(features)\n",
        "\n",
        "priority = layers.Dense(1, activation=\"sigmoid\", name=\"priority\")(features)\n",
        "department = layers.Dense(\n",
        "    num_departments, activation=\"softmax\", name=\"department\")(features)\n",
        "\n",
        "model = keras.Model(inputs=[title, text_body, tags], outputs=[priority, department])"
      ]
    },
    {
      "cell_type": "code",
      "source": [
        "model.summary()"
      ],
      "metadata": {
        "id": "MUqCGhjB76a6"
      },
      "execution_count": null,
      "outputs": []
    },
    {
      "cell_type": "markdown",
      "metadata": {
        "id": "iaY9ONfi78k3"
      },
      "source": [
        "#### 다중 입력, 다중 출력 모델 훈련하기"
      ]
    },
    {
      "cell_type": "markdown",
      "metadata": {
        "id": "9GMPVLxq78k4"
      },
      "source": [
        "**입력과 타깃 배열 리스트를 전달하여 모델 훈련하기**"
      ]
    },
    {
      "cell_type": "code",
      "execution_count": null,
      "metadata": {
        "execution": {
          "iopub.execute_input": "2022-05-21T01:08:20.099324Z",
          "iopub.status.busy": "2022-05-21T01:08:20.098423Z",
          "iopub.status.idle": "2022-05-21T01:08:22.430581Z",
          "shell.execute_reply": "2022-05-21T01:08:22.429547Z"
        },
        "id": "PF-fIm-k78k4"
      },
      "outputs": [],
      "source": [
        "import numpy as np\n",
        "\n",
        "num_samples = 1280\n",
        "\n",
        "title_data = np.random.randint(0, 2, size=(num_samples, vocabulary_size))\n",
        "text_body_data = np.random.randint(0, 2, size=(num_samples, vocabulary_size))\n",
        "tags_data = np.random.randint(0, 2, size=(num_samples, num_tags))\n",
        "\n",
        "priority_data = np.random.random(size=(num_samples, 1))\n",
        "department_data = np.random.randint(0, 2, size=(num_samples, num_departments))\n",
        "\n",
        "model.compile(optimizer=\"rmsprop\",\n",
        "              loss=[\"mean_squared_error\", \"categorical_crossentropy\"],\n",
        "              metrics=[[\"mean_absolute_error\"], [\"accuracy\"]])\n",
        "model.fit([title_data, text_body_data, tags_data],\n",
        "          [priority_data, department_data],\n",
        "          epochs=1)\n",
        "model.evaluate([title_data, text_body_data, tags_data],\n",
        "               [priority_data, department_data])\n",
        "priority_preds, department_preds = model.predict([title_data, text_body_data, tags_data])"
      ]
    },
    {
      "cell_type": "markdown",
      "metadata": {
        "id": "ETin1U8d78k4"
      },
      "source": [
        "**입력과 타깃 배열을 딕셔너리로 전달하여 모델 훈련하기**"
      ]
    },
    {
      "cell_type": "code",
      "execution_count": null,
      "metadata": {
        "execution": {
          "iopub.execute_input": "2022-05-21T01:08:22.435226Z",
          "iopub.status.busy": "2022-05-21T01:08:22.434592Z",
          "iopub.status.idle": "2022-05-21T01:08:24.291408Z",
          "shell.execute_reply": "2022-05-21T01:08:24.290463Z"
        },
        "id": "kugTw4iL78k4"
      },
      "outputs": [],
      "source": [
        "model.compile(optimizer=\"rmsprop\",\n",
        "              loss={\"priority\": \"mean_squared_error\", \"department\": \"categorical_crossentropy\"},\n",
        "              metrics={\"priority\": [\"mean_absolute_error\"], \"department\": [\"accuracy\"]})\n",
        "model.fit({\"title\": title_data, \"text_body\": text_body_data, \"tags\": tags_data},\n",
        "          {\"priority\": priority_data, \"department\": department_data},\n",
        "          epochs=1)\n",
        "model.evaluate({\"title\": title_data, \"text_body\": text_body_data, \"tags\": tags_data},\n",
        "               {\"priority\": priority_data, \"department\": department_data})\n",
        "priority_preds, department_preds = model.predict(\n",
        "    {\"title\": title_data, \"text_body\": text_body_data, \"tags\": tags_data})"
      ]
    },
    {
      "cell_type": "code",
      "source": [
        "input_dic= {\"title\": title_data, \"text_body\": text_body_data, \"tags\": tags_data}"
      ],
      "metadata": {
        "id": "MaJpMRUMAyVG"
      },
      "execution_count": null,
      "outputs": []
    },
    {
      "cell_type": "code",
      "source": [
        "input_dic['title'].shape"
      ],
      "metadata": {
        "id": "tuDwEKxBAtml"
      },
      "execution_count": null,
      "outputs": []
    },
    {
      "cell_type": "markdown",
      "metadata": {
        "tags": [],
        "id": "NGUx8bTV78k5"
      },
      "source": [
        "#### 함수형 API의 장점: 층 연결 구조 활용하기"
      ]
    },
    {
      "cell_type": "code",
      "execution_count": null,
      "metadata": {
        "execution": {
          "iopub.execute_input": "2022-05-21T01:08:24.295555Z",
          "iopub.status.busy": "2022-05-21T01:08:24.295211Z",
          "iopub.status.idle": "2022-05-21T01:08:24.300052Z",
          "shell.execute_reply": "2022-05-21T01:08:24.299285Z"
        },
        "id": "L7eCHpoG78k5"
      },
      "outputs": [],
      "source": [
        "keras.utils.plot_model(model, \"ticket_classifier.png\")"
      ]
    },
    {
      "cell_type": "code",
      "execution_count": null,
      "metadata": {
        "execution": {
          "iopub.execute_input": "2022-05-21T01:08:24.303580Z",
          "iopub.status.busy": "2022-05-21T01:08:24.303078Z",
          "iopub.status.idle": "2022-05-21T01:08:24.307672Z",
          "shell.execute_reply": "2022-05-21T01:08:24.306917Z"
        },
        "id": "3Nw-4sLo78k5"
      },
      "outputs": [],
      "source": [
        "keras.utils.plot_model(model, \"ticket_classifier_with_shape_info.png\", show_shapes=True)"
      ]
    },
    {
      "cell_type": "markdown",
      "metadata": {
        "id": "NyuVboDE78k5"
      },
      "source": [
        "**함수형 모델에 있는 층의 입력과 출력을 출력하기**"
      ]
    },
    {
      "cell_type": "code",
      "execution_count": null,
      "metadata": {
        "execution": {
          "iopub.execute_input": "2022-05-21T01:08:24.311251Z",
          "iopub.status.busy": "2022-05-21T01:08:24.310745Z",
          "iopub.status.idle": "2022-05-21T01:08:24.315796Z",
          "shell.execute_reply": "2022-05-21T01:08:24.315076Z"
        },
        "id": "X3hPudcS78k5"
      },
      "outputs": [],
      "source": [
        "model.layers"
      ]
    },
    {
      "cell_type": "code",
      "source": [
        "model.layers[5].output"
      ],
      "metadata": {
        "id": "jYj3D_eNB6BJ"
      },
      "execution_count": null,
      "outputs": []
    },
    {
      "cell_type": "code",
      "execution_count": null,
      "metadata": {
        "execution": {
          "iopub.execute_input": "2022-05-21T01:08:24.319180Z",
          "iopub.status.busy": "2022-05-21T01:08:24.318695Z",
          "iopub.status.idle": "2022-05-21T01:08:24.326357Z",
          "shell.execute_reply": "2022-05-21T01:08:24.325469Z"
        },
        "id": "VLlMoaSX78k5"
      },
      "outputs": [],
      "source": [
        "model.layers[3].input"
      ]
    },
    {
      "cell_type": "code",
      "execution_count": null,
      "metadata": {
        "execution": {
          "iopub.execute_input": "2022-05-21T01:08:24.329766Z",
          "iopub.status.busy": "2022-05-21T01:08:24.329492Z",
          "iopub.status.idle": "2022-05-21T01:08:24.334935Z",
          "shell.execute_reply": "2022-05-21T01:08:24.334084Z"
        },
        "id": "bhAJb6V_78k5"
      },
      "outputs": [],
      "source": [
        "model.layers[3].output"
      ]
    },
    {
      "cell_type": "markdown",
      "metadata": {
        "id": "iJHRexY578k5"
      },
      "source": [
        "**중간 층의 출력을 재사용해 새로운 모델 만들기**"
      ]
    },
    {
      "cell_type": "code",
      "source": [
        "model.layers[4].output"
      ],
      "metadata": {
        "id": "TtwdiwyYBdBB"
      },
      "execution_count": null,
      "outputs": []
    },
    {
      "cell_type": "code",
      "execution_count": null,
      "metadata": {
        "execution": {
          "iopub.execute_input": "2022-05-21T01:08:24.338270Z",
          "iopub.status.busy": "2022-05-21T01:08:24.337988Z",
          "iopub.status.idle": "2022-05-21T01:08:24.354444Z",
          "shell.execute_reply": "2022-05-21T01:08:24.353623Z"
        },
        "id": "NG3VoQ_P78k6"
      },
      "outputs": [],
      "source": [
        "features = model.layers[4].output\n",
        "difficulty = layers.Dense(3, activation=\"softmax\", name=\"difficulty\")(features)\n",
        "\n",
        "new_model = keras.Model(\n",
        "    inputs=[title, text_body, tags],\n",
        "    outputs=[priority, department, difficulty])"
      ]
    },
    {
      "cell_type": "code",
      "execution_count": null,
      "metadata": {
        "execution": {
          "iopub.execute_input": "2022-05-21T01:08:24.358250Z",
          "iopub.status.busy": "2022-05-21T01:08:24.357982Z",
          "iopub.status.idle": "2022-05-21T01:08:24.363966Z",
          "shell.execute_reply": "2022-05-21T01:08:24.363187Z"
        },
        "id": "IAnVhZta78k6"
      },
      "outputs": [],
      "source": [
        "keras.utils.plot_model(new_model, \"updated_ticket_classifier.png\", show_shapes=True)"
      ]
    },
    {
      "cell_type": "markdown",
      "metadata": {
        "id": "4IHYAjBu78k6"
      },
      "source": [
        "### Model 서브클래싱"
      ]
    },
    {
      "cell_type": "markdown",
      "metadata": {
        "id": "lqUwg6uE78k6"
      },
      "source": [
        "#### 이전 예제를 서브클래싱 모델로 다시 만들기"
      ]
    },
    {
      "cell_type": "markdown",
      "metadata": {
        "id": "am5YtF8778k6"
      },
      "source": [
        "**간단한 서브클래싱 모델**"
      ]
    },
    {
      "cell_type": "code",
      "execution_count": null,
      "metadata": {
        "execution": {
          "iopub.execute_input": "2022-05-21T01:08:24.367795Z",
          "iopub.status.busy": "2022-05-21T01:08:24.367535Z",
          "iopub.status.idle": "2022-05-21T01:08:24.377947Z",
          "shell.execute_reply": "2022-05-21T01:08:24.377149Z"
        },
        "id": "WGoy0Ul-78k6"
      },
      "outputs": [],
      "source": [
        "class CustomerTicketModel(keras.Model):\n",
        "\n",
        "    def __init__(self, num_departments):\n",
        "        super().__init__()\n",
        "        self.concat_layer = layers.Concatenate()\n",
        "        self.mixing_layer = layers.Dense(64, activation=\"relu\")\n",
        "        self.priority_scorer = layers.Dense(1, activation=\"sigmoid\")\n",
        "        self.department_classifier = layers.Dense(\n",
        "            num_departments, activation=\"softmax\")\n",
        "\n",
        "    def call(self, inputs):\n",
        "        title = inputs[\"title\"]\n",
        "        text_body = inputs[\"text_body\"]\n",
        "        tags = inputs[\"tags\"]\n",
        "\n",
        "        features = self.concat_layer([title, text_body, tags])\n",
        "        features = self.mixing_layer(features)\n",
        "        priority = self.priority_scorer(features)\n",
        "        department = self.department_classifier(features)\n",
        "        return priority, department"
      ]
    },
    {
      "cell_type": "code",
      "execution_count": null,
      "metadata": {
        "execution": {
          "iopub.execute_input": "2022-05-21T01:08:24.381882Z",
          "iopub.status.busy": "2022-05-21T01:08:24.381610Z",
          "iopub.status.idle": "2022-05-21T01:08:24.528631Z",
          "shell.execute_reply": "2022-05-21T01:08:24.527627Z"
        },
        "id": "OwIkKxbo78k6"
      },
      "outputs": [],
      "source": [
        "model = CustomerTicketModel(num_departments=4)\n",
        "\n",
        "priority, department = model(\n",
        "    {\"title\": title_data, \"text_body\": text_body_data, \"tags\": tags_data})"
      ]
    },
    {
      "cell_type": "code",
      "execution_count": null,
      "metadata": {
        "execution": {
          "iopub.execute_input": "2022-05-21T01:08:24.532860Z",
          "iopub.status.busy": "2022-05-21T01:08:24.532275Z",
          "iopub.status.idle": "2022-05-21T01:08:26.597771Z",
          "shell.execute_reply": "2022-05-21T01:08:26.596979Z"
        },
        "id": "j_QU2zjY78k6"
      },
      "outputs": [],
      "source": [
        "model.compile(optimizer=\"rmsprop\",\n",
        "              loss=[\"mean_squared_error\", \"categorical_crossentropy\"],\n",
        "              metrics=[[\"mean_absolute_error\"], [\"accuracy\"]])\n",
        "model.fit({\"title\": title_data,\n",
        "           \"text_body\": text_body_data,\n",
        "           \"tags\": tags_data},\n",
        "          [priority_data, department_data],\n",
        "          epochs=1)\n",
        "model.evaluate({\"title\": title_data,\n",
        "                \"text_body\": text_body_data,\n",
        "                \"tags\": tags_data},\n",
        "               [priority_data, department_data])\n",
        "priority_preds, department_preds = model.predict({\"title\": title_data,\n",
        "                                                  \"text_body\": text_body_data,\n",
        "                                                  \"tags\": tags_data})"
      ]
    },
    {
      "cell_type": "markdown",
      "metadata": {
        "id": "i3gOvHhh78k7"
      },
      "source": [
        "#### 주의: 서브클래싱된 모델이 지원하지 않는 것"
      ]
    },
    {
      "cell_type": "markdown",
      "metadata": {
        "id": "eC7Rq-Ev78k7"
      },
      "source": [
        "### 여러 방식을 혼합하여 사용하기"
      ]
    },
    {
      "cell_type": "markdown",
      "metadata": {
        "id": "kE1ggqfi78k7"
      },
      "source": [
        "**서브클래싱한 모델을 포함하는 함수형 모델 만들기**"
      ]
    },
    {
      "cell_type": "code",
      "execution_count": 114,
      "metadata": {
        "execution": {
          "iopub.execute_input": "2022-05-21T01:08:26.602071Z",
          "iopub.status.busy": "2022-05-21T01:08:26.601768Z",
          "iopub.status.idle": "2022-05-21T01:08:26.649705Z",
          "shell.execute_reply": "2022-05-21T01:08:26.648869Z"
        },
        "id": "da_g0EBu78k7"
      },
      "outputs": [],
      "source": [
        "class Classifier(keras.Model):\n",
        "\n",
        "    def __init__(self, num_classes=2):\n",
        "        super().__init__()\n",
        "        if num_classes == 2:\n",
        "            num_units = 1\n",
        "            activation = \"sigmoid\"\n",
        "        else:\n",
        "            num_units = num_classes\n",
        "            activation = \"softmax\"\n",
        "        self.dense = layers.Dense(num_units, activation=activation)\n",
        "\n",
        "    def call(self, inputs):\n",
        "        return self.dense(inputs)\n",
        "\n",
        "inputs = keras.Input(shape=(3,))\n",
        "features = layers.Dense(64, activation=\"relu\")(inputs)\n",
        "outputs = Classifier(num_classes=10)(features)\n",
        "model = keras.Model(inputs=inputs, outputs=outputs)"
      ]
    },
    {
      "cell_type": "markdown",
      "metadata": {
        "id": "MkQjDWxJ78k7"
      },
      "source": [
        "**함수형 모델을 포함하는 서브클래싱 모델 만들기**"
      ]
    },
    {
      "cell_type": "code",
      "execution_count": null,
      "metadata": {
        "execution": {
          "iopub.execute_input": "2022-05-21T01:08:26.654038Z",
          "iopub.status.busy": "2022-05-21T01:08:26.653474Z",
          "iopub.status.idle": "2022-05-21T01:08:26.674965Z",
          "shell.execute_reply": "2022-05-21T01:08:26.674043Z"
        },
        "id": "dycdDtlq78k7"
      },
      "outputs": [],
      "source": [
        "inputs = keras.Input(shape=(64,))\n",
        "outputs = layers.Dense(1, activation=\"sigmoid\")(inputs)\n",
        "binary_classifier = keras.Model(inputs=inputs, outputs=outputs)\n",
        "\n",
        "class MyModel(keras.Model):\n",
        "\n",
        "    def __init__(self, num_classes=2):\n",
        "        super().__init__()\n",
        "        self.dense = layers.Dense(64, activation=\"relu\")\n",
        "        self.classifier = binary_classifier\n",
        "\n",
        "    def call(self, inputs):\n",
        "        features = self.dense(inputs)\n",
        "        return self.classifier(features)\n",
        "\n",
        "model = MyModel()"
      ]
    },
    {
      "cell_type": "markdown",
      "metadata": {
        "id": "WCgVPZAH78k7"
      },
      "source": [
        "### 작업에 적합한 도구 사용하기"
      ]
    },
    {
      "cell_type": "markdown",
      "metadata": {
        "id": "X0ElPTiL78k8"
      },
      "source": [
        "## 내장된 훈련 루프와 평가 루프 사용하기"
      ]
    },
    {
      "cell_type": "markdown",
      "metadata": {
        "id": "NFV6VAdW78k8"
      },
      "source": [
        "**표준 워크플로: `compile()`, `fit()`, `evaluate()`, `predict()`**"
      ]
    },
    {
      "cell_type": "code",
      "execution_count": null,
      "metadata": {
        "execution": {
          "iopub.execute_input": "2022-05-21T01:08:26.679409Z",
          "iopub.status.busy": "2022-05-21T01:08:26.678832Z",
          "iopub.status.idle": "2022-05-21T01:08:44.967069Z",
          "shell.execute_reply": "2022-05-21T01:08:44.965985Z"
        },
        "id": "GzRMpKS978k8"
      },
      "outputs": [],
      "source": [
        "from tensorflow.keras.datasets import mnist\n",
        "\n",
        "def get_mnist_model():\n",
        "    inputs = keras.Input(shape=(28 * 28,))\n",
        "    features = layers.Dense(512, activation=\"relu\")(inputs)\n",
        "    features = layers.Dropout(0.5)(features)\n",
        "    outputs = layers.Dense(10, activation=\"softmax\")(features)\n",
        "    model = keras.Model(inputs, outputs)\n",
        "    return model\n",
        "\n",
        "(images, labels), (test_images, test_labels) = mnist.load_data()\n",
        "images = images.reshape((60000, 28 * 28)).astype(\"float32\") / 255\n",
        "test_images = test_images.reshape((10000, 28 * 28)).astype(\"float32\") / 255\n",
        "train_images, val_images = images[10000:], images[:10000]\n",
        "train_labels, val_labels = labels[10000:], labels[:10000]\n",
        "\n",
        "model = get_mnist_model()\n",
        "model.compile(optimizer=\"rmsprop\",\n",
        "              loss=\"sparse_categorical_crossentropy\",\n",
        "              metrics=[\"accuracy\"])\n",
        "model.fit(train_images, train_labels,\n",
        "          epochs=3,\n",
        "          validation_data=(val_images, val_labels))\n",
        "test_metrics = model.evaluate(test_images, test_labels)\n",
        "predictions = model.predict(test_images)"
      ]
    },
    {
      "cell_type": "markdown",
      "metadata": {
        "id": "ZXW2RIgz78k8"
      },
      "source": [
        "### 사용자 정의 지표 만들기"
      ]
    },
    {
      "cell_type": "markdown",
      "metadata": {
        "id": "xWhiYFnu78k8"
      },
      "source": [
        "**`Metric` 클래스를 상속하여 사용자 정의 지표 구현하기**"
      ]
    },
    {
      "cell_type": "code",
      "execution_count": null,
      "metadata": {
        "execution": {
          "iopub.execute_input": "2022-05-21T01:08:44.971342Z",
          "iopub.status.busy": "2022-05-21T01:08:44.970817Z",
          "iopub.status.idle": "2022-05-21T01:08:44.980214Z",
          "shell.execute_reply": "2022-05-21T01:08:44.979336Z"
        },
        "id": "jJDjCQPW78k8"
      },
      "outputs": [],
      "source": [
        "import tensorflow as tf\n",
        "\n",
        "class RootMeanSquaredError(keras.metrics.Metric):\n",
        "\n",
        "    def __init__(self, name=\"rmse\", **kwargs):\n",
        "        super().__init__(name=name, **kwargs)\n",
        "        self.mse_sum = self.add_weight(name=\"mse_sum\", initializer=\"zeros\")\n",
        "        self.total_samples = self.add_weight(\n",
        "            name=\"total_samples\", initializer=\"zeros\", dtype=\"int32\")\n",
        "\n",
        "    def update_state(self, y_true, y_pred, sample_weight=None):\n",
        "        y_true = tf.one_hot(y_true, depth=tf.shape(y_pred)[1])\n",
        "        mse = tf.reduce_sum(tf.square(y_true - y_pred))\n",
        "        self.mse_sum.assign_add(mse)\n",
        "        num_samples = tf.shape(y_pred)[0]\n",
        "        self.total_samples.assign_add(num_samples)\n",
        "\n",
        "    def result(self):\n",
        "        return tf.sqrt(self.mse_sum / tf.cast(self.total_samples, tf.float32))\n",
        "\n",
        "    def reset_state(self):\n",
        "        self.mse_sum.assign(0.)\n",
        "        self.total_samples.assign(0)"
      ]
    },
    {
      "cell_type": "code",
      "execution_count": null,
      "metadata": {
        "execution": {
          "iopub.execute_input": "2022-05-21T01:08:44.983832Z",
          "iopub.status.busy": "2022-05-21T01:08:44.983362Z",
          "iopub.status.idle": "2022-05-21T01:09:03.089922Z",
          "shell.execute_reply": "2022-05-21T01:09:03.089047Z"
        },
        "id": "hYp3z_Kq78k8"
      },
      "outputs": [],
      "source": [
        "model = get_mnist_model()\n",
        "model.compile(optimizer=\"rmsprop\",\n",
        "              loss=\"sparse_categorical_crossentropy\",\n",
        "              metrics=[\"accuracy\", RootMeanSquaredError()])\n",
        "model.fit(train_images, train_labels,\n",
        "          epochs=3,\n",
        "          validation_data=(val_images, val_labels))\n",
        "test_metrics = model.evaluate(test_images, test_labels)"
      ]
    },
    {
      "cell_type": "markdown",
      "metadata": {
        "id": "8epZ1dKS78k8"
      },
      "source": [
        "### 콜백 사용하기"
      ]
    },
    {
      "cell_type": "markdown",
      "metadata": {
        "id": "dC7p9qIY78k9"
      },
      "source": [
        "#### EarlyStopping 콜백과 ModelCheckpoint 콜백"
      ]
    },
    {
      "cell_type": "markdown",
      "metadata": {
        "id": "9brr6hcy78k9"
      },
      "source": [
        "**`fit()` 메서드에서 `callbacks` 매개변수 사용하기**"
      ]
    },
    {
      "cell_type": "code",
      "execution_count": null,
      "metadata": {
        "execution": {
          "iopub.execute_input": "2022-05-21T01:09:03.094301Z",
          "iopub.status.busy": "2022-05-21T01:09:03.093823Z",
          "iopub.status.idle": "2022-05-21T01:09:58.429813Z",
          "shell.execute_reply": "2022-05-21T01:09:58.429085Z"
        },
        "id": "ujmcJNZ378k9"
      },
      "outputs": [],
      "source": [
        "callbacks_list = [\n",
        "    keras.callbacks.EarlyStopping(\n",
        "        monitor=\"val_accuracy\",\n",
        "        patience=2,\n",
        "    ),\n",
        "    keras.callbacks.ModelCheckpoint(\n",
        "        filepath=\"checkpoint_path.keras\",\n",
        "        monitor=\"val_loss\",\n",
        "        save_best_only=True,\n",
        "    )\n",
        "]\n",
        "model = get_mnist_model()\n",
        "model.compile(optimizer=\"rmsprop\",\n",
        "              loss=\"sparse_categorical_crossentropy\",\n",
        "              metrics=[\"accuracy\"])\n",
        "model.fit(train_images, train_labels,\n",
        "          epochs=10,\n",
        "          callbacks=callbacks_list,\n",
        "          validation_data=(val_images, val_labels))"
      ]
    },
    {
      "cell_type": "code",
      "execution_count": null,
      "metadata": {
        "execution": {
          "iopub.execute_input": "2022-05-21T01:09:58.433618Z",
          "iopub.status.busy": "2022-05-21T01:09:58.433095Z",
          "iopub.status.idle": "2022-05-21T01:09:58.491643Z",
          "shell.execute_reply": "2022-05-21T01:09:58.490645Z"
        },
        "id": "l-u3KrUE78k9"
      },
      "outputs": [],
      "source": [
        "model = keras.models.load_model(\"checkpoint_path.keras\")"
      ]
    },
    {
      "cell_type": "markdown",
      "metadata": {
        "id": "P-pq4JEO78k9"
      },
      "source": [
        "### 사용자 정의 콜백 만들기"
      ]
    },
    {
      "cell_type": "markdown",
      "metadata": {
        "id": "08STDIhB78k9"
      },
      "source": [
        "**`Callback` 클래스를 상속하여 사용자 정의 콜백 만들기**"
      ]
    },
    {
      "cell_type": "code",
      "execution_count": null,
      "metadata": {
        "execution": {
          "iopub.execute_input": "2022-05-21T01:09:58.495977Z",
          "iopub.status.busy": "2022-05-21T01:09:58.495225Z",
          "iopub.status.idle": "2022-05-21T01:09:59.285638Z",
          "shell.execute_reply": "2022-05-21T01:09:59.284886Z"
        },
        "id": "b6HGz5xv78k9"
      },
      "outputs": [],
      "source": [
        "from matplotlib import pyplot as plt\n",
        "\n",
        "class LossHistory(keras.callbacks.Callback):\n",
        "    def on_train_begin(self, logs):\n",
        "        self.per_batch_losses = []\n",
        "\n",
        "    def on_batch_end(self, batch, logs):\n",
        "        self.per_batch_losses.append(logs.get(\"loss\"))\n",
        "\n",
        "    def on_epoch_end(self, epoch, logs):\n",
        "        plt.clf()\n",
        "        plt.plot(range(len(self.per_batch_losses)), self.per_batch_losses,\n",
        "                 label=\"Training loss for each batch\")\n",
        "        plt.xlabel(f\"Batch (epoch {epoch})\")\n",
        "        plt.ylabel(\"Loss\")\n",
        "        plt.legend()\n",
        "        plt.savefig(f\"plot_at_epoch_{epoch}\")\n",
        "        self.per_batch_losses = []"
      ]
    },
    {
      "cell_type": "code",
      "execution_count": null,
      "metadata": {
        "execution": {
          "iopub.execute_input": "2022-05-21T01:09:59.290618Z",
          "iopub.status.busy": "2022-05-21T01:09:59.289241Z",
          "iopub.status.idle": "2022-05-21T01:10:55.995033Z",
          "shell.execute_reply": "2022-05-21T01:10:55.994126Z"
        },
        "id": "hO99-0LV78k9"
      },
      "outputs": [],
      "source": [
        "model = get_mnist_model()\n",
        "model.compile(optimizer=\"rmsprop\",\n",
        "              loss=\"sparse_categorical_crossentropy\",\n",
        "              metrics=[\"accuracy\"])\n",
        "model.fit(train_images, train_labels,\n",
        "          epochs=10,\n",
        "          callbacks=[LossHistory()],\n",
        "          validation_data=(val_images, val_labels))"
      ]
    },
    {
      "cell_type": "markdown",
      "metadata": {
        "id": "FgcvXFxo78k-"
      },
      "source": [
        "### 텐서보드를 사용한 모니터링과 시각화"
      ]
    },
    {
      "cell_type": "code",
      "execution_count": null,
      "metadata": {
        "execution": {
          "iopub.execute_input": "2022-05-21T01:10:55.998924Z",
          "iopub.status.busy": "2022-05-21T01:10:55.998613Z",
          "iopub.status.idle": "2022-05-21T01:11:51.571953Z",
          "shell.execute_reply": "2022-05-21T01:11:51.570997Z"
        },
        "id": "o0K4FkE378k-"
      },
      "outputs": [],
      "source": [
        "model = get_mnist_model()\n",
        "model.compile(optimizer=\"rmsprop\",\n",
        "              loss=\"sparse_categorical_crossentropy\",\n",
        "              metrics=[\"accuracy\"])\n",
        "\n",
        "tensorboard = keras.callbacks.TensorBoard(\n",
        "    log_dir=\"./tb_logs\",\n",
        ")\n",
        "model.fit(train_images, train_labels,\n",
        "          epochs=10,\n",
        "          validation_data=(val_images, val_labels),\n",
        "          callbacks=[tensorboard])"
      ]
    },
    {
      "cell_type": "code",
      "execution_count": null,
      "metadata": {
        "execution": {
          "iopub.execute_input": "2022-05-21T01:11:51.575451Z",
          "iopub.status.busy": "2022-05-21T01:11:51.575138Z",
          "iopub.status.idle": "2022-05-21T01:11:51.581153Z",
          "shell.execute_reply": "2022-05-21T01:11:51.580402Z"
        },
        "id": "hQoGW1eF78k-"
      },
      "outputs": [],
      "source": [
        "%load_ext tensorboard\n",
        "%tensorboard --logdir ./tb_logs"
      ]
    },
    {
      "cell_type": "markdown",
      "metadata": {
        "id": "PWZ0JGjC78k-"
      },
      "source": [
        "## 사용자 정의 훈련, 평가 루프 만들기"
      ]
    },
    {
      "cell_type": "markdown",
      "metadata": {
        "id": "DtvNHbe678k-"
      },
      "source": [
        "### 훈련 vs 추론"
      ]
    },
    {
      "cell_type": "markdown",
      "metadata": {
        "id": "8DT-z16U78k-"
      },
      "source": [
        "### 측정 지표의 저수준 사용법"
      ]
    },
    {
      "cell_type": "code",
      "execution_count": null,
      "metadata": {
        "execution": {
          "iopub.execute_input": "2022-05-21T01:11:51.584945Z",
          "iopub.status.busy": "2022-05-21T01:11:51.584442Z",
          "iopub.status.idle": "2022-05-21T01:11:51.595626Z",
          "shell.execute_reply": "2022-05-21T01:11:51.594802Z"
        },
        "id": "2xW8W3Tl78k-"
      },
      "outputs": [],
      "source": [
        "metric = keras.metrics.SparseCategoricalAccuracy()\n",
        "targets = [0, 1, 2]\n",
        "predictions = [[1, 0, 0], [0, 1, 0], [0, 0, 1]]\n",
        "metric.update_state(targets, predictions)\n",
        "current_result = metric.result()\n",
        "print(f\"결과: {current_result:.2f}\")"
      ]
    },
    {
      "cell_type": "code",
      "execution_count": null,
      "metadata": {
        "execution": {
          "iopub.execute_input": "2022-05-21T01:11:51.599193Z",
          "iopub.status.busy": "2022-05-21T01:11:51.598585Z",
          "iopub.status.idle": "2022-05-21T01:11:51.611676Z",
          "shell.execute_reply": "2022-05-21T01:11:51.610904Z"
        },
        "id": "-6Te0JJz78k-"
      },
      "outputs": [],
      "source": [
        "values = [0, 1, 2, 3, 4]\n",
        "mean_tracker = keras.metrics.Mean()\n",
        "for value in values:\n",
        "    mean_tracker.update_state(value)\n",
        "print(f\"평균 지표: {mean_tracker.result():.2f}\")"
      ]
    },
    {
      "cell_type": "markdown",
      "metadata": {
        "id": "qy0lMEAv78k_"
      },
      "source": [
        "### 완전한 훈련과 평가 루프"
      ]
    },
    {
      "cell_type": "markdown",
      "metadata": {
        "id": "fjudIHfu78k_"
      },
      "source": [
        "**단계별 훈련 루프 작성하기: 훈련 스텝 함수**"
      ]
    },
    {
      "cell_type": "code",
      "execution_count": 122,
      "metadata": {
        "execution": {
          "iopub.execute_input": "2022-05-21T01:11:51.615655Z",
          "iopub.status.busy": "2022-05-21T01:11:51.615030Z",
          "iopub.status.idle": "2022-05-21T01:11:51.648128Z",
          "shell.execute_reply": "2022-05-21T01:11:51.647386Z"
        },
        "id": "NaYol7Wk78k_"
      },
      "outputs": [],
      "source": [
        "model = get_mnist_model()\n",
        "\n",
        "loss_fn = keras.losses.SparseCategoricalCrossentropy()\n",
        "optimizer = keras.optimizers.RMSprop()\n",
        "metrics = [keras.metrics.SparseCategoricalAccuracy()]\n",
        "loss_tracking_metric = keras.metrics.Mean()\n",
        "\n",
        "def train_step(inputs, targets):\n",
        "    with tf.GradientTape() as tape:\n",
        "        predictions = model(inputs, training=True)\n",
        "        loss = loss_fn(targets, predictions)\n",
        "    gradients = tape.gradient(loss, model.trainable_weights)\n",
        "    optimizer.apply_gradients(zip(gradients, model.trainable_weights))\n",
        "\n",
        "    logs = {}\n",
        "    for metric in metrics:\n",
        "        metric.update_state(targets, predictions)\n",
        "        logs[metric.name] = metric.result()\n",
        "\n",
        "    loss_tracking_metric.update_state(loss)\n",
        "    logs[\"loss\"] = loss_tracking_metric.result()\n",
        "    return logs"
      ]
    },
    {
      "cell_type": "markdown",
      "metadata": {
        "id": "fy5_wL-d78k_"
      },
      "source": [
        "**단계별 훈련 루프 작성하기: 지표 재설정**"
      ]
    },
    {
      "cell_type": "code",
      "execution_count": 116,
      "metadata": {
        "execution": {
          "iopub.execute_input": "2022-05-21T01:11:51.652465Z",
          "iopub.status.busy": "2022-05-21T01:11:51.652144Z",
          "iopub.status.idle": "2022-05-21T01:11:51.656362Z",
          "shell.execute_reply": "2022-05-21T01:11:51.655460Z"
        },
        "id": "HKm4Xv8H78k_"
      },
      "outputs": [],
      "source": [
        "def reset_metrics():\n",
        "    for metric in metrics:\n",
        "        metric.reset_state()\n",
        "    loss_tracking_metric.reset_state()"
      ]
    },
    {
      "cell_type": "markdown",
      "metadata": {
        "id": "QdP7stZc78k_"
      },
      "source": [
        "**단계별 훈련 루프 작성하기: 훈련 루프 자체**"
      ]
    },
    {
      "cell_type": "code",
      "execution_count": 123,
      "metadata": {
        "execution": {
          "iopub.execute_input": "2022-05-21T01:11:51.659753Z",
          "iopub.status.busy": "2022-05-21T01:11:51.659473Z",
          "iopub.status.idle": "2022-05-21T01:13:35.833634Z",
          "shell.execute_reply": "2022-05-21T01:13:35.832801Z"
        },
        "id": "2i5kWvLW78k_",
        "outputId": "50e14ede-8182-414c-f99c-3859a811532d",
        "colab": {
          "base_uri": "https://localhost:8080/"
        }
      },
      "outputs": [
        {
          "output_type": "stream",
          "name": "stderr",
          "text": [
            "WARNING:tensorflow:5 out of the last 18757 calls to <function _BaseOptimizer._update_step_xla at 0x7f81981da4c0> triggered tf.function retracing. Tracing is expensive and the excessive number of tracings could be due to (1) creating @tf.function repeatedly in a loop, (2) passing tensors with different shapes, (3) passing Python objects instead of tensors. For (1), please define your @tf.function outside of the loop. For (2), @tf.function has reduce_retracing=True option that can avoid unnecessary retracing. For (3), please refer to https://www.tensorflow.org/guide/function#controlling_retracing and https://www.tensorflow.org/api_docs/python/tf/function for  more details.\n"
          ]
        },
        {
          "output_type": "stream",
          "name": "stdout",
          "text": [
            "0번째 에포크 결과\n",
            "...sparse_categorical_accuracy: 0.9131\n",
            "...loss: 0.2923\n",
            "1번째 에포크 결과\n",
            "...sparse_categorical_accuracy: 0.9545\n",
            "...loss: 0.1590\n",
            "2번째 에포크 결과\n",
            "...sparse_categorical_accuracy: 0.9638\n",
            "...loss: 0.1311\n"
          ]
        }
      ],
      "source": [
        "training_dataset = tf.data.Dataset.from_tensor_slices((train_images, train_labels))\n",
        "training_dataset = training_dataset.batch(32)\n",
        "epochs = 3\n",
        "for epoch in range(epochs):\n",
        "    reset_metrics()\n",
        "    for inputs_batch, targets_batch in training_dataset:\n",
        "        logs = train_step(inputs_batch, targets_batch)\n",
        "    print(f\"{epoch}번째 에포크 결과\")\n",
        "    for key, value in logs.items():\n",
        "        print(f\"...{key}: {value:.4f}\")"
      ]
    },
    {
      "cell_type": "markdown",
      "metadata": {
        "id": "hN5nxrLm78k_"
      },
      "source": [
        "**단계별 평가 루프 작성하기**"
      ]
    },
    {
      "cell_type": "code",
      "execution_count": 124,
      "metadata": {
        "execution": {
          "iopub.execute_input": "2022-05-21T01:13:35.837721Z",
          "iopub.status.busy": "2022-05-21T01:13:35.837147Z",
          "iopub.status.idle": "2022-05-21T01:13:37.253563Z",
          "shell.execute_reply": "2022-05-21T01:13:37.252923Z"
        },
        "id": "tMCfVv7c78k_",
        "outputId": "b0224407-7cb6-4918-c2fd-524e12845bb5",
        "colab": {
          "base_uri": "https://localhost:8080/"
        }
      },
      "outputs": [
        {
          "output_type": "stream",
          "name": "stdout",
          "text": [
            "평가 결과:\n",
            "...val_sparse_categorical_accuracy: 0.9676\n",
            "...val_loss: 0.1222\n"
          ]
        }
      ],
      "source": [
        "def test_step(inputs, targets):\n",
        "    predictions = model(inputs, training=False)\n",
        "    loss = loss_fn(targets, predictions)\n",
        "\n",
        "    logs = {}\n",
        "    for metric in metrics:\n",
        "        metric.update_state(targets, predictions)\n",
        "        logs[\"val_\" + metric.name] = metric.result()\n",
        "\n",
        "    loss_tracking_metric.update_state(loss)\n",
        "    logs[\"val_loss\"] = loss_tracking_metric.result()\n",
        "    return logs\n",
        "\n",
        "val_dataset = tf.data.Dataset.from_tensor_slices((val_images, val_labels))\n",
        "val_dataset = val_dataset.batch(32)\n",
        "reset_metrics()\n",
        "for inputs_batch, targets_batch in val_dataset:\n",
        "    logs = test_step(inputs_batch, targets_batch)\n",
        "print(\"평가 결과:\")\n",
        "for key, value in logs.items():\n",
        "    print(f\"...{key}: {value:.4f}\")"
      ]
    },
    {
      "cell_type": "markdown",
      "metadata": {
        "id": "s6lo0hOw78lA"
      },
      "source": [
        "### tf.function로 성능 높이기"
      ]
    },
    {
      "cell_type": "markdown",
      "metadata": {
        "id": "-bKrg1Rk78lA"
      },
      "source": [
        "**평가 스텝 함수에 `@tf.function` 데코레이터 추가하기**"
      ]
    },
    {
      "cell_type": "code",
      "execution_count": 125,
      "metadata": {
        "execution": {
          "iopub.execute_input": "2022-05-21T01:13:37.257323Z",
          "iopub.status.busy": "2022-05-21T01:13:37.256633Z",
          "iopub.status.idle": "2022-05-21T01:13:37.874908Z",
          "shell.execute_reply": "2022-05-21T01:13:37.873547Z"
        },
        "id": "RQ1lhXWM78lA",
        "outputId": "3e62f5cb-7587-472f-c370-448c030a7c82",
        "colab": {
          "base_uri": "https://localhost:8080/"
        }
      },
      "outputs": [
        {
          "output_type": "stream",
          "name": "stdout",
          "text": [
            "평가 결과:\n",
            "...val_sparse_categorical_accuracy: 0.9676\n",
            "...val_loss: 0.1222\n"
          ]
        }
      ],
      "source": [
        "@tf.function\n",
        "def test_step(inputs, targets):\n",
        "    predictions = model(inputs, training=False)\n",
        "    loss = loss_fn(targets, predictions)\n",
        "\n",
        "    logs = {}\n",
        "    for metric in metrics:\n",
        "        metric.update_state(targets, predictions)\n",
        "        logs[\"val_\" + metric.name] = metric.result()\n",
        "\n",
        "    loss_tracking_metric.update_state(loss)\n",
        "    logs[\"val_loss\"] = loss_tracking_metric.result()\n",
        "    return logs\n",
        "\n",
        "val_dataset = tf.data.Dataset.from_tensor_slices((val_images, val_labels))\n",
        "val_dataset = val_dataset.batch(32)\n",
        "reset_metrics()\n",
        "for inputs_batch, targets_batch in val_dataset:\n",
        "    logs = test_step(inputs_batch, targets_batch)\n",
        "print(\"평가 결과:\")\n",
        "for key, value in logs.items():\n",
        "    print(f\"...{key}: {value:.4f}\")"
      ]
    },
    {
      "cell_type": "markdown",
      "metadata": {
        "id": "T1C-CRs678lA"
      },
      "source": [
        "### fit() 메서드를 사용자 정의 훈련 루프로 활용하기"
      ]
    },
    {
      "cell_type": "markdown",
      "metadata": {
        "id": "oGHGk69L78lA"
      },
      "source": [
        "**`fit()`이 사용할 사용자 정의 훈련 스텝 구현하기**"
      ]
    },
    {
      "cell_type": "code",
      "execution_count": 126,
      "metadata": {
        "execution": {
          "iopub.execute_input": "2022-05-21T01:13:37.878964Z",
          "iopub.status.busy": "2022-05-21T01:13:37.878431Z",
          "iopub.status.idle": "2022-05-21T01:13:37.888722Z",
          "shell.execute_reply": "2022-05-21T01:13:37.887667Z"
        },
        "id": "Ar2ldzlN78lA"
      },
      "outputs": [],
      "source": [
        "loss_fn = keras.losses.SparseCategoricalCrossentropy()\n",
        "loss_tracker = keras.metrics.Mean(name=\"loss\")\n",
        "\n",
        "class CustomModel(keras.Model):\n",
        "    def train_step(self, data):\n",
        "        inputs, targets = data\n",
        "        with tf.GradientTape() as tape:\n",
        "            predictions = self(inputs, training=True)\n",
        "            loss = loss_fn(targets, predictions)\n",
        "        gradients = tape.gradient(loss, self.trainable_weights)\n",
        "        self.optimizer.apply_gradients(zip(gradients, self.trainable_weights))\n",
        "\n",
        "        loss_tracker.update_state(loss)\n",
        "        return {\"loss\": loss_tracker.result()}\n",
        "\n",
        "    @property\n",
        "    def metrics(self):\n",
        "        return [loss_tracker]"
      ]
    },
    {
      "cell_type": "code",
      "execution_count": 127,
      "metadata": {
        "execution": {
          "iopub.execute_input": "2022-05-21T01:13:37.891926Z",
          "iopub.status.busy": "2022-05-21T01:13:37.891618Z",
          "iopub.status.idle": "2022-05-21T01:13:53.356228Z",
          "shell.execute_reply": "2022-05-21T01:13:53.355389Z"
        },
        "id": "xOvJMNsa78lA",
        "outputId": "1742ad13-c027-4ac8-d6a2-7095be05bade",
        "colab": {
          "base_uri": "https://localhost:8080/"
        }
      },
      "outputs": [
        {
          "output_type": "stream",
          "name": "stdout",
          "text": [
            "Epoch 1/3\n",
            "1563/1563 [==============================] - 5s 3ms/step - loss: 0.2926\n",
            "Epoch 2/3\n",
            "1563/1563 [==============================] - 4s 3ms/step - loss: 0.1586\n",
            "Epoch 3/3\n",
            "1563/1563 [==============================] - 4s 2ms/step - loss: 0.1296\n"
          ]
        },
        {
          "output_type": "execute_result",
          "data": {
            "text/plain": [
              "<keras.callbacks.History at 0x7f81b03d74c0>"
            ]
          },
          "metadata": {},
          "execution_count": 127
        }
      ],
      "source": [
        "inputs = keras.Input(shape=(28 * 28,))\n",
        "features = layers.Dense(512, activation=\"relu\")(inputs)\n",
        "features = layers.Dropout(0.5)(features)\n",
        "outputs = layers.Dense(10, activation=\"softmax\")(features)\n",
        "model = CustomModel(inputs, outputs)\n",
        "\n",
        "model.compile(optimizer=keras.optimizers.RMSprop())\n",
        "model.fit(train_images, train_labels, epochs=3)"
      ]
    },
    {
      "cell_type": "code",
      "execution_count": 128,
      "metadata": {
        "execution": {
          "iopub.execute_input": "2022-05-21T01:13:53.360221Z",
          "iopub.status.busy": "2022-05-21T01:13:53.359484Z",
          "iopub.status.idle": "2022-05-21T01:13:53.365151Z",
          "shell.execute_reply": "2022-05-21T01:13:53.364526Z"
        },
        "id": "vKK04-lA78lA"
      },
      "outputs": [],
      "source": [
        "class CustomModel(keras.Model):\n",
        "    def train_step(self, data):\n",
        "        inputs, targets = data\n",
        "        with tf.GradientTape() as tape:\n",
        "            predictions = self(inputs, training=True)\n",
        "            loss = self.compiled_loss(targets, predictions)\n",
        "        gradients = tape.gradient(loss, self.trainable_weights)\n",
        "        self.optimizer.apply_gradients(zip(gradients, self.trainable_weights))\n",
        "        self.compiled_metrics.update_state(targets, predictions)\n",
        "        return {m.name: m.result() for m in self.metrics}"
      ]
    },
    {
      "cell_type": "code",
      "execution_count": 129,
      "metadata": {
        "execution": {
          "iopub.execute_input": "2022-05-21T01:13:53.368416Z",
          "iopub.status.busy": "2022-05-21T01:13:53.367908Z",
          "iopub.status.idle": "2022-05-21T01:14:09.050661Z",
          "shell.execute_reply": "2022-05-21T01:14:09.049737Z"
        },
        "id": "T0i6ZlW-78lB",
        "outputId": "c5e28e29-6b1c-4132-e6f6-5724c5cfc7a2",
        "colab": {
          "base_uri": "https://localhost:8080/"
        }
      },
      "outputs": [
        {
          "output_type": "stream",
          "name": "stdout",
          "text": [
            "Epoch 1/3\n",
            "1563/1563 [==============================] - 7s 4ms/step - loss: 0.2954 - sparse_categorical_accuracy: 0.9116\n",
            "Epoch 2/3\n",
            "1563/1563 [==============================] - 4s 3ms/step - loss: 0.1604 - sparse_categorical_accuracy: 0.9532\n",
            "Epoch 3/3\n",
            "1563/1563 [==============================] - 5s 3ms/step - loss: 0.1294 - sparse_categorical_accuracy: 0.9627\n"
          ]
        },
        {
          "output_type": "execute_result",
          "data": {
            "text/plain": [
              "<keras.callbacks.History at 0x7f81b0425730>"
            ]
          },
          "metadata": {},
          "execution_count": 129
        }
      ],
      "source": [
        "inputs = keras.Input(shape=(28 * 28,))\n",
        "features = layers.Dense(512, activation=\"relu\")(inputs)\n",
        "features = layers.Dropout(0.5)(features)\n",
        "outputs = layers.Dense(10, activation=\"softmax\")(features)\n",
        "model = CustomModel(inputs, outputs)\n",
        "\n",
        "model.compile(optimizer=keras.optimizers.RMSprop(),\n",
        "              loss=keras.losses.SparseCategoricalCrossentropy(),\n",
        "              metrics=[keras.metrics.SparseCategoricalAccuracy()])\n",
        "model.fit(train_images, train_labels, epochs=3)"
      ]
    },
    {
      "cell_type": "markdown",
      "metadata": {
        "id": "7t7N5sar78lB"
      },
      "source": [
        "## 요약"
      ]
    }
  ],
  "metadata": {
    "colab": {
      "name": "chapter07_working-with-keras.i",
      "provenance": []
    },
    "kernelspec": {
      "display_name": "default:Python",
      "language": "python",
      "name": "conda-env-default-py"
    },
    "language_info": {
      "codemirror_mode": {
        "name": "ipython",
        "version": 3
      },
      "file_extension": ".py",
      "mimetype": "text/x-python",
      "name": "python",
      "nbconvert_exporter": "python",
      "pygments_lexer": "ipython3",
      "version": "3.9.10"
    },
    "accelerator": "GPU",
    "gpuClass": "standard"
  },
  "nbformat": 4,
  "nbformat_minor": 0
}